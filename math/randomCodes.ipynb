{
 "cells": [
  {
   "cell_type": "code",
   "execution_count": 1,
   "id": "9f05bbb1",
   "metadata": {},
   "outputs": [],
   "source": [
    "matrix = [[1,2,3],[4,5,6]]"
   ]
  },
  {
   "cell_type": "code",
   "execution_count": 12,
   "id": "482a22c5",
   "metadata": {},
   "outputs": [],
   "source": [
    "def transpose(matrix):\n",
    "    m = len(matrix)\n",
    "    n = len(matrix[0])\n",
    "    trans = [[None]*m]*n\n",
    "    for i in range(n):\n",
    "        for j in range(m):\n",
    "            trans[i][j] = matrix[j][i]\n",
    "    return trans"
   ]
  },
  {
   "cell_type": "code",
   "execution_count": 13,
   "id": "5f1322d1",
   "metadata": {},
   "outputs": [
    {
     "data": {
      "text/plain": [
       "[[3, 6], [3, 6], [3, 6]]"
      ]
     },
     "execution_count": 13,
     "metadata": {},
     "output_type": "execute_result"
    }
   ],
   "source": [
    "transpose(matrix)"
   ]
  },
  {
   "cell_type": "code",
   "execution_count": null,
   "id": "f030b37d",
   "metadata": {},
   "outputs": [],
   "source": []
  }
 ],
 "metadata": {
  "kernelspec": {
   "display_name": "Python 3 (ipykernel)",
   "language": "python",
   "name": "python3"
  },
  "language_info": {
   "codemirror_mode": {
    "name": "ipython",
    "version": 3
   },
   "file_extension": ".py",
   "mimetype": "text/x-python",
   "name": "python",
   "nbconvert_exporter": "python",
   "pygments_lexer": "ipython3",
   "version": "3.8.9"
  }
 },
 "nbformat": 4,
 "nbformat_minor": 5
}
