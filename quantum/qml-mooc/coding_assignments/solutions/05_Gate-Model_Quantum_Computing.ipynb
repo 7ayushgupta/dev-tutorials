{
 "cells": [
  {
   "cell_type": "markdown",
   "metadata": {},
   "source": [
    "Before you begin, execute this cell to import numpy and packages from the D-Wave Ocean suite, and all necessary functions for the gate-model framework you are going to use, whether that is the Forest SDK or Qiskit. In the case of Forest SDK, it also starts the qvm and quilc servers."
   ]
  },
  {
   "cell_type": "code",
   "execution_count": null,
   "metadata": {},
   "outputs": [],
   "source": [
    "%run -i \"assignment_helper.py\"\n",
    "%matplotlib inline"
   ]
  },
  {
   "cell_type": "markdown",
   "metadata": {},
   "source": [
    "# Defining circuits\n",
    "\n",
    "**Exercise 1** (2 points). Quantum computers typically initialize their qubit registers in the $|0\\rangle$ state. This means that if there is any particular state we would like to work with, first we have to figure out how to create that state with a circuit. Some states are easier to prepare than others. If you are just given a random vector, say, $\\begin{bmatrix}0.36\\\\  0.8704\\end{bmatrix}$, it is not easy to figure out how to prepare it. In fact, the very purpose of quantum computing is to prepare a probability distribution of interest, that is, a state. So in some ways, generic state preparation is as hard as or equivalent to quantum computation. On the other hand, some states are easy to prepare; for instance, the state $\\frac{-|0\\rangle + |1\\rangle}{\\sqrt{2}}$. Create a circuit in your preferred framework that prepares this state. The object should be called `circuit`."
   ]
  },
  {
   "cell_type": "code",
   "execution_count": null,
   "metadata": {
    "ExecuteTime": {
     "end_time": "2018-11-19T20:07:24.314851Z",
     "start_time": "2018-11-19T20:07:22.576203Z"
    }
   },
   "outputs": [],
   "source": [
    "import numpy as np\n",
    "import pyquil\n",
    "import qiskit\n",
    "from pyquil import Program, get_qc\n",
    "from pyquil.api import WavefunctionSimulator\n",
    "from pyquil.gates import *\n",
    "from qiskit import QuantumCircuit, ClassicalRegister, QuantumRegister\n",
    "from qiskit import execute, BasicAer\n",
    "\n",
    "### BEGIN SOLUTION\n",
    "q = QuantumRegister(1)\n",
    "c = ClassicalRegister(1)\n",
    "circuit = QuantumCircuit(q, c)\n",
    "circuit.x(q[0])\n",
    "circuit.h(q[0])\n",
    "circuit.x(q[0])\n",
    "# Forest version\n",
    "# circuit = Program()\n",
    "# circuit += X(0)\n",
    "# circuit += H(0)\n",
    "# circuit += X(0)\n",
    "### END SOLUTION"
   ]
  },
  {
   "cell_type": "code",
   "execution_count": null,
   "metadata": {},
   "outputs": [],
   "source": [
    "amplitudes = get_amplitudes(circuit)\n",
    "assert np.allclose(amplitudes, np.array([-1/np.sqrt(2), 1/np.sqrt(2)]))"
   ]
  },
  {
   "cell_type": "markdown",
   "metadata": {},
   "source": [
    "**Exercise 2** (2 points). We know that entanglement is an important resource for quantum computing, but so far we entangled only a pair of qubits. Create a circuit to prepare the state $\\frac{|000\\rangle + |111\\rangle}{\\sqrt{2}}$, which is a three-qubit entangled state. The circuit should be in an object called `circuit` with three quantum and three classical registers. If you use PyQuil, declare the classical registers in a variable called `ro`. The circuit is the following:\n",
    "\n",
    "<img src=\"figures/three_qubit_entanglement.png\" alt=\"Creating three-qubit entanglement\" style=\"width: 100px;\"/>"
   ]
  },
  {
   "cell_type": "code",
   "execution_count": null,
   "metadata": {
    "ExecuteTime": {
     "end_time": "2018-11-19T20:07:25.136336Z",
     "start_time": "2018-11-19T20:07:24.318756Z"
    }
   },
   "outputs": [],
   "source": [
    "### BEGIN SOLUTION\n",
    "q = QuantumRegister(3)\n",
    "c = ClassicalRegister(3)\n",
    "circuit = QuantumCircuit(q, c)\n",
    "circuit.h(q[0])\n",
    "circuit.cx(q[0], q[1])\n",
    "circuit.cx(q[1], q[2])\n",
    "# Forest version\n",
    "# circuit = Program()\n",
    "# circuit += H(0)\n",
    "# circuit += CNOT(0, 1)\n",
    "# circuit += CNOT(1, 2)\n",
    "# ro = circuit.declare('ro', 'BIT', 3)\n",
    "### END SOLUTION"
   ]
  },
  {
   "cell_type": "code",
   "execution_count": null,
   "metadata": {},
   "outputs": [],
   "source": [
    "amplitudes = get_amplitudes(circuit)\n",
    "assert np.allclose(amplitudes, np.array([1/np.sqrt(2), 0, 0, 0, 0, 0, 0, 1/np.sqrt(2)]))"
   ]
  },
  {
   "cell_type": "markdown",
   "metadata": {},
   "source": [
    "**Exercise 3** (1 point). This state is entangled and exhibits very strong correlations between the qubits. To see this, add a measurement on each qubit. We'll run the circuit a hundred times and study the statistics."
   ]
  },
  {
   "cell_type": "code",
   "execution_count": null,
   "metadata": {},
   "outputs": [],
   "source": [
    "### BEGIN SOLUTION\n",
    "circuit.measure(q, c)\n",
    "# Forest version\n",
    "# circuit += MEASURE(0, ro[0])\n",
    "# circuit += MEASURE(1, ro[1])\n",
    "# circuit += MEASURE(2, ro[2])\n",
    "### END SOLUTION"
   ]
  },
  {
   "cell_type": "code",
   "execution_count": null,
   "metadata": {},
   "outputs": [],
   "source": [
    "counts = get_counts(circuit)\n",
    "assert abs(counts['000']/100-.5) < 0.1\n",
    "assert abs(counts['111']/100-.5) < 0.1\n",
    "assert  counts['000'] + counts['111'] == 100"
   ]
  },
  {
   "cell_type": "markdown",
   "metadata": {},
   "source": [
    "The measurement statistics show that if any of the qubits measured gives 0, so do the other two. If a qubit is measured 1, then the other two will be 1 as well."
   ]
  }
 ],
 "metadata": {
  "kernelspec": {
   "display_name": "Python 3",
   "language": "python",
   "name": "python3"
  },
  "language_info": {
   "codemirror_mode": {
    "name": "ipython",
    "version": 3
   },
   "file_extension": ".py",
   "mimetype": "text/x-python",
   "name": "python",
   "nbconvert_exporter": "python",
   "pygments_lexer": "ipython3",
   "version": "3.7.3"
  }
 },
 "nbformat": 4,
 "nbformat_minor": 2
}
