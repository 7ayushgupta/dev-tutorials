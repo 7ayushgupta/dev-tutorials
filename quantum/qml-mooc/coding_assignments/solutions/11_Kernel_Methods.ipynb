{
 "cells": [
  {
   "cell_type": "markdown",
   "metadata": {},
   "source": [
    "Before you begin, execute this cell to import numpy and packages from the D-Wave Ocean suite, and all necessary functions for the gate-model framework you are going to use, whether that is the Forest SDK or Qiskit. In the case of Forest SDK, it also starts the qvm and quilc servers."
   ]
  },
  {
   "cell_type": "code",
   "execution_count": 1,
   "metadata": {
    "ExecuteTime": {
     "end_time": "2019-02-01T22:11:42.748085Z",
     "start_time": "2019-02-01T22:11:41.709832Z"
    }
   },
   "outputs": [
    {
     "name": "stdout",
     "output_type": "stream",
     "text": [
      "Available frameworks:\n",
      "Forest SDK\n",
      "Qiskit\n",
      "D-Wave Ocean\n"
     ]
    }
   ],
   "source": [
    "%run -i \"assignment_helper.py\"\n",
    "%matplotlib inline\n",
    "from pyquil.parameters import Parameter, quil_sin, quil_cos\n",
    "from pyquil.quilbase import DefGate"
   ]
  },
  {
   "cell_type": "markdown",
   "metadata": {},
   "source": [
    "# State preparation\n",
    "\n",
    "\n",
    "\n",
    "As explained in Maria Schuld's guest lecture, to prepare a state in a particular encoding is done by rotating vectors, in other words to map vectors into others, which is the basic idea of kernel learning. This procedure gives rise to interesting kernels, without the need of specifying the mapping function.\n",
    "\n",
    "\n",
    "Let us work with an easy training data set of two vectors, $S = \\{(\\begin{bmatrix}0 \\\\ 1\\end{bmatrix}, 0), (\\begin{bmatrix}\\frac{1}{2}\\sqrt{2} \\\\ \\frac{1}{2}\\sqrt{2}\\end{bmatrix}, 1)\\}$. Let's have a test instance $\\begin{bmatrix}1 \\\\ 0\\end{bmatrix}$. We will build the interference circuit for this.\n",
    "\n",
    "**Exercise 1** (1 point).\n",
    "\n",
    "Create a circuit in your preferred framework that works on four qubits: ancilla, index, data, and class. Put the ancilla and index qubits into a uniform superposition. Verify for yourself that this also encodes the test data in the coefficients of the $|0000\\rangle$, $|0100\\rangle$ states as well as in the $|0010\\rangle$, $| 0110\\rangle$ states.\n",
    "\n",
    "Insert identity operators for the data_qubit and the class_qubit, so these are initialized for amplitude measurements. \n",
    "\n",
    "Place your solution in an object called `circuit`. "
   ]
  },
  {
   "cell_type": "code",
   "execution_count": 2,
   "metadata": {
    "ExecuteTime": {
     "end_time": "2019-02-01T23:13:52.771326Z",
     "start_time": "2019-02-01T23:13:52.764645Z"
    }
   },
   "outputs": [
    {
     "name": "stdout",
     "output_type": "stream",
     "text": [
      "[0.5+0.j 0.5+0.j 0.5+0.j 0.5+0.j 0. +0.j 0. +0.j 0. +0.j 0. +0.j 0. +0.j\n",
      " 0. +0.j 0. +0.j 0. +0.j 0. +0.j 0. +0.j 0. +0.j 0. +0.j]\n"
     ]
    }
   ],
   "source": [
    "ancilla_qubit = 0\n",
    "index_qubit = 1\n",
    "data_qubit = 2\n",
    "class_qubit = 3\n",
    "\n",
    "\n",
    "### BEGIN SOLUTION\n",
    "\n",
    "# Forest version\n",
    "\n",
    "circuit = Program()\n",
    "# Put the ancilla and the index qubits into uniform superposition\n",
    "circuit += H(ancilla_qubit)\n",
    "circuit += H(index_qubit)\n",
    "# Nothing to be done to prepare the test state, but the I operations\n",
    "# are needed to ensure amplitude measurements run over all 4-qubit states\n",
    "# (we could put these in assignment_helper.py)\n",
    "circuit += I(data_qubit)\n",
    "circuit += I(class_qubit)\n",
    "\n",
    "# QISKIT VERSION\n",
    "q = QuantumRegister(4)\n",
    "c = ClassicalRegister(4)\n",
    "circuit = QuantumCircuit(q, c)\n",
    "# Put the ancilla and the index qubits into uniform superposition\n",
    "# qiskit does not need the identity operators\n",
    "\n",
    "circuit.h(q[ancilla_qubit])\n",
    "circuit.h(q[index_qubit])\n",
    "\n",
    "# Nothing to be done to prepare the test state.\n",
    "\n",
    "### END SOLUTION\n",
    "\n",
    "\n",
    "# Verify for yourself that this preparation is also sufficient to represent the test vector"
   ]
  },
  {
   "cell_type": "code",
   "execution_count": 3,
   "metadata": {
    "ExecuteTime": {
     "end_time": "2019-02-01T23:14:15.126345Z",
     "start_time": "2019-02-01T23:14:15.117346Z"
    },
    "collapsed": true,
    "editable": false,
    "nbgrader": {
     "grade": true,
     "grade_id": "exercise1",
     "locked": false,
     "points": "1",
     "solution": false
    }
   },
   "outputs": [],
   "source": [
    "amplitudes = get_amplitudes(circuit)\n",
    "assert np.allclose(amplitudes, np.array([0.5 +0.j, 0.5+0.j, 0.5 +0.j, 0.5+0.j, 0.+0.j, 0. +0.j, 0.+0.j,\n",
    "       0. +0.j, 0. +0.j, 0. +0.j, 0. +0.j, 0. +0.j, 0. +0.j, 0. +0.j, 0. +0.j, 0. +0.j]))"
   ]
  },
  {
   "cell_type": "markdown",
   "metadata": {},
   "source": [
    "**Exercise 2** (1 point).\n",
    "\n",
    "Extend the circuit to prepare the first training instance, by pushing the feature values into the coefficients of the $|0001\\rangle$ and $|0101\\rangle$, without affecting any of the other coefficients."
   ]
  },
  {
   "cell_type": "code",
   "execution_count": 4,
   "metadata": {
    "ExecuteTime": {
     "end_time": "2019-02-01T23:14:18.235970Z",
     "start_time": "2019-02-01T23:14:18.232241Z"
    },
    "collapsed": true
   },
   "outputs": [],
   "source": [
    "### BEGIN SOLUTION\n",
    "\n",
    "# Forest version\n",
    "# Prepare the first training vector\n",
    "# We can prepare this with a Toffoli\n",
    "circuit += CCNOT(ancilla_qubit, index_qubit, data_qubit)\n",
    "# Flip the index qubit > moves the first training vector to the \n",
    "# |0> state of the index qubit\n",
    "circuit += X(index_qubit)\n",
    "\n",
    "\n",
    "# QISKIT VERSION\n",
    "# Prepare the first training vector\n",
    "# We can prepare this with a Toffoli\n",
    "circuit.ccx(ancilla_qubit, index_qubit, data_qubit)\n",
    "# Flip the index qubit > moves the first training vector to the \n",
    "# |0> state of the index qubit\n",
    "circuit.x(index_qubit) \n",
    "\n",
    "###END SOLUTION"
   ]
  },
  {
   "cell_type": "code",
   "execution_count": 5,
   "metadata": {
    "ExecuteTime": {
     "end_time": "2019-02-01T23:14:34.131516Z",
     "start_time": "2019-02-01T23:14:34.123522Z"
    },
    "collapsed": true,
    "deletable": false,
    "editable": false,
    "nbgrader": {
     "grade": true,
     "grade_id": "exercise2",
     "locked": true,
     "points": "1",
     "solution": false
    }
   },
   "outputs": [],
   "source": [
    "amplitudes = get_amplitudes(circuit)\n",
    "assert np.allclose(amplitudes, np.array([0.5 +0.j, 0. +0.j, 0.5 +0.j, 0.5+0.j, 0.+0.j, 0.5+0.j, 0.+0.j,\n",
    "       0. +0.j, 0. +0.j, 0. +0.j, 0. +0.j, 0. +0.j, 0. +0.j, 0. +0.j, 0. +0.j, 0. +0.j]))"
   ]
  },
  {
   "cell_type": "markdown",
   "metadata": {},
   "source": [
    "**Exercise 3** (2 points).\n",
    "\n",
    "As a final step in the preparation, extend the circuit to push the feature values of the second training instance into the coefficients of the $|0011\\rangle$ and $|0111\\rangle$ states.\n",
    "\n",
    "Remember that, as explained in the lecture notebook, loading vectors with amplitude encoding requires to apply a double controlled rotation by an angle determined by the coordinates of the vector.\n"
   ]
  },
  {
   "cell_type": "code",
   "execution_count": 6,
   "metadata": {
    "ExecuteTime": {
     "end_time": "2019-02-01T23:21:19.816704Z",
     "start_time": "2019-02-01T23:21:19.809155Z"
    },
    "collapsed": true
   },
   "outputs": [],
   "source": [
    "### BEGIN SOLUTION\n",
    "\n",
    "# Forest version\n",
    "# This can be done in qiskit style (see below) or with a constructed double controlled RY\n",
    "# We choose the latter and define the rotation\n",
    "\n",
    "alpha = Parameter('alpha')\n",
    "ccry = np.array([\n",
    "    [1, 0, 0, 0, 0, 0, 0, 0],\n",
    "    [0, 1, 0, 0, 0, 0, 0, 0],\n",
    "    [0, 0, 1, 0, 0, 0, 0, 0],\n",
    "    [0, 0, 0, 1, 0, 0, 0, 0],\n",
    "    [0, 0, 0, 0, 1, 0, 0, 0],\n",
    "    [0, 0, 0, 0, 0, 1, 0, 0],\n",
    "    [0, 0, 0, 0, 0, 0, quil_cos(alpha / 2), -quil_sin(alpha / 2)],\n",
    "    [0, 0, 0, 0, 0, 0, quil_sin(alpha / 2), quil_cos(alpha / 2)]\n",
    "])\n",
    "ccry_definition = DefGate('CCRY', ccry,[alpha])\n",
    "CCRY = ccry_definition.get_constructor()\n",
    "# Now apply the CCRY\n",
    "circuit += ccry_definition\n",
    "circuit += CCRY(np.pi/2)(ancilla_qubit, index_qubit, data_qubit)\n",
    "\n",
    "\n",
    "# QISKIT VERSION\n",
    "# see Bloch diagram in lecture on movement of relevant states\n",
    "circuit.ccx(ancilla_qubit, index_qubit, data_qubit)\n",
    "circuit.ry(-np.pi/4, data_qubit)\n",
    "circuit.ccx(ancilla_qubit, index_qubit, data_qubit)\n",
    "circuit.ry(np.pi/4, data_qubit)\n",
    "\n",
    "###END SOLUTION"
   ]
  },
  {
   "cell_type": "code",
   "execution_count": 7,
   "metadata": {
    "ExecuteTime": {
     "end_time": "2019-02-01T23:14:55.188948Z",
     "start_time": "2019-02-01T23:14:55.180967Z"
    },
    "collapsed": true,
    "editable": false,
    "nbgrader": {
     "grade": true,
     "grade_id": "exercise3",
     "locked": true,
     "points": "2",
     "solution": false
    }
   },
   "outputs": [],
   "source": [
    "amplitudes = get_amplitudes(circuit)\n",
    "assert np.allclose(amplitudes, np.array([0.5 +0.j,  0. +0.j,  0.5 +0.j,  np.sqrt(2)/4 + 0.j,  0.+0.j,  0.5+0.j,\n",
    "       0.+0.j,  np.sqrt(2)/4 +0.j,  0. +0.j,  0. +0.j,  0. +0.j,  0. +0.j, 0. +0.j,  0. +0.j,  0. +0.j,  0. +0.j]))"
   ]
  },
  {
   "cell_type": "markdown",
   "metadata": {},
   "source": [
    "**Exercise 4** (1 point). \n",
    "\n",
    "Finish the state preparation circuit by a conditional flip of the class qubit, such that the coefficients of the second training vector and those of the copy of the test vector have the class bit equal to 1, without affecting any of the other coefficients.\n",
    "\n",
    "\n",
    "It is very useful at this point, for testing purposes, to add code which shows the state vectors, as done in the lecture notebook\n"
   ]
  },
  {
   "cell_type": "code",
   "execution_count": 8,
   "metadata": {
    "ExecuteTime": {
     "end_time": "2019-02-01T23:21:32.459625Z",
     "start_time": "2019-02-01T23:21:32.456769Z"
    },
    "collapsed": true
   },
   "outputs": [],
   "source": [
    "### BEGIN SOLUTION\n",
    "\n",
    "# Forest version\n",
    "circuit += CNOT(index_qubit, class_qubit)\n",
    "\n",
    "# QISKIT VERSION\n",
    "circuit.cx(q[index_qubit], q[class_qubit])\n",
    "\n",
    "### END SOLUTION"
   ]
  },
  {
   "cell_type": "code",
   "execution_count": 9,
   "metadata": {
    "ExecuteTime": {
     "end_time": "2019-02-01T23:14:57.653167Z",
     "start_time": "2019-02-01T23:14:57.645745Z"
    },
    "collapsed": true,
    "deletable": false,
    "editable": false,
    "nbgrader": {
     "grade": true,
     "grade_id": "exercise4",
     "locked": true,
     "points": "1",
     "solution": false
    }
   },
   "outputs": [],
   "source": [
    "amplitudes = get_amplitudes(circuit)\n",
    "assert np.allclose(amplitudes, np.array([ 0.5 +0.j,  0.  +0.j,  0. +0.j,  0.+0.j, 0.  +0.j,  0.5 +0.j,  0. +0.j,  0.+0., 0.  +0.j,  0.  +0.j,  0.5+0.j,  np.sqrt(2)/4 +0j, 0.  +0.j,  0.  +0.j,  0. +0.j,  np.sqrt(2)/4 +0.j]))"
   ]
  },
  {
   "cell_type": "markdown",
   "metadata": {},
   "source": [
    "# Interference as a kernel\n",
    "\n",
    "**Exercise 5** (1 point). \n",
    "\n",
    "At this point, our state is:\n",
    "\n",
    "$|\\psi\\rangle = \\frac{1}{\\sqrt{2}}\\sum_{m=0}^{1}|y_m\\rangle|m\\rangle|\\psi_{x^m}\\rangle|0\\rangle + |y_m\\rangle|m\\rangle|\\psi_{\\tilde{x}}\\rangle|1\\rangle$\n",
    "\n",
    "Apply the Hadamard gate on the ancilla to produce the interference and create: \n",
    "\n",
    "$ |\\psi\\rangle = \\frac{1}{2\\sqrt{2}}\\sum_{m=0}^{1}|y_m\\rangle|m\\rangle(|\\psi_{x^m}\\rangle+|\\psi_{\\tilde{x}}\\rangle)|0\\rangle+|y_m\\rangle|m\\rangle(|\\psi_{x^m}\\rangle-|\\psi_{\\tilde{x}}\\rangle)|1\\rangle$\n"
   ]
  },
  {
   "cell_type": "code",
   "execution_count": 10,
   "metadata": {
    "ExecuteTime": {
     "end_time": "2019-02-01T23:21:45.311556Z",
     "start_time": "2019-02-01T23:21:45.308708Z"
    },
    "collapsed": true
   },
   "outputs": [],
   "source": [
    " ### BEGIN SOLUTION\n",
    "    \n",
    "# Forest version\n",
    "circuit += H(0)\n",
    "\n",
    "#QISKIT VERSION\n",
    "circuit.h(q[ancilla_qubit])\n",
    "\n",
    "### END SOLUTION"
   ]
  },
  {
   "cell_type": "code",
   "execution_count": 11,
   "metadata": {
    "ExecuteTime": {
     "end_time": "2019-02-01T23:20:05.071236Z",
     "start_time": "2019-02-01T23:20:05.061812Z"
    },
    "collapsed": true,
    "deletable": false,
    "editable": false,
    "nbgrader": {
     "grade": true,
     "grade_id": "exercise5",
     "locked": true,
     "points": "1",
     "solution": false
    }
   },
   "outputs": [],
   "source": [
    "amplitudes = get_amplitudes(circuit)\n",
    "assert np.allclose(amplitudes, np.array([  np.sqrt(2)/4+0.j , np.sqrt(2)/4+0.j , 0.        +0.j , 0.        +0.j,\n",
    "  np.sqrt(2)/4+0.j ,-np.sqrt(2)/4+0.j , 0.        +0.j , 0.        +0.j,\n",
    "  0.        +0.j,  0.        +0.j , (np.sqrt(2)+1)/4+0.j , (np.sqrt(2)-1)/4+0.j,\n",
    "  0.        +0.j , 0.        +0.j , 0.25      +0.j ,-0.25      +0.j]))"
   ]
  },
  {
   "cell_type": "markdown",
   "metadata": {},
   "source": [
    "If we measure the ancilla, the outcome probability of observing 0 will be $\\frac{1}{4N}\\sum_{i=1}^N |x_t + x_i|^2$. Performing post-selection on the 0 outcome, we can calculate the kernel and the probability of the test instance belonging to either class."
   ]
  }
 ],
 "metadata": {
  "kernelspec": {
   "display_name": "Python 3 [3.6]",
   "language": "python",
   "name": "python3"
  },
  "language_info": {
   "codemirror_mode": {
    "name": "ipython",
    "version": 3
   },
   "file_extension": ".py",
   "mimetype": "text/x-python",
   "name": "python",
   "nbconvert_exporter": "python",
   "pygments_lexer": "ipython3",
   "version": "3.6.4"
  },
  "varInspector": {
   "cols": {
    "lenName": 16,
    "lenType": 16,
    "lenVar": 40
   },
   "kernels_config": {
    "python": {
     "delete_cmd_postfix": "",
     "delete_cmd_prefix": "del ",
     "library": "var_list.py",
     "varRefreshCmd": "print(var_dic_list())"
    },
    "r": {
     "delete_cmd_postfix": ") ",
     "delete_cmd_prefix": "rm(",
     "library": "var_list.r",
     "varRefreshCmd": "cat(var_dic_list()) "
    }
   },
   "types_to_exclude": [
    "module",
    "function",
    "builtin_function_or_method",
    "instance",
    "_Feature"
   ],
   "window_display": false
  }
 },
 "nbformat": 4,
 "nbformat_minor": 2
}
