{
 "cells": [
  {
   "cell_type": "markdown",
   "metadata": {},
   "source": [
    "Before you begin, execute this cell to import numpy and packages from the D-Wave Ocean suite, and all necessary functions for the gate-model framework you are going to use, whether that is the Forest SDK or Qiskit. In the case of Forest SDK, it also starts the qvm and quilc servers."
   ]
  },
  {
   "cell_type": "code",
   "execution_count": null,
   "metadata": {},
   "outputs": [],
   "source": [
    "%run -i \"assignment_helper.py\"\n",
    "%matplotlib inline"
   ]
  },
  {
   "cell_type": "markdown",
   "metadata": {},
   "source": [
    "# Classical probability distributions\n",
    "\n",
    "**Exercise 1** (1 point). Recall that in classical con flipping, get heads with probability $P(X=0) = p_0$ and tails with $P(X=1) = p_1$ for each toss of the coin, where $p_i\\geq 0$ for all $i$, and the probabilities sum to one: $\\sum_i p_i = 1$. Create a sample with a 1000 data points using numpy, with a probability of getting tails being 0.3. This is the parameter that the `binomial` function takes. Store the outcome in an array called `x_data`."
   ]
  },
  {
   "cell_type": "code",
   "execution_count": null,
   "metadata": {
    "ExecuteTime": {
     "end_time": "2018-11-19T19:47:57.736024Z",
     "start_time": "2018-11-19T19:47:57.668891Z"
    }
   },
   "outputs": [],
   "source": [
    "n_samples = 1000\n",
    "### BEGIN SOLUTION\n",
    "p_1 = 0.3\n",
    "x_data = np.random.binomial(1, p_1, (n_samples,))\n",
    "### END SOLUTION"
   ]
  },
  {
   "cell_type": "code",
   "execution_count": null,
   "metadata": {},
   "outputs": [],
   "source": [
    "assert isinstance(x_data, np.ndarray)\n",
    "assert abs(p_1-x_data.sum()/n_samples) < 0.05"
   ]
  },
  {
   "cell_type": "markdown",
   "metadata": {},
   "source": [
    "**Exercise 2** (1 point). As you recall, we may also write the probability distribution as a stochastic vector $\\vec{p} = \\begin{bmatrix} p_0 \\\\ p_1 \\end{bmatrix}$. The normalization constraint on the probability distribution says that the norm of the vector is restricted to one in the $l_1$ norm. In other words, $||\\vec{p}||_1 = \\sum_i |p_i| = 1$. This would be the unit circle in the $l_1$ norm, but since $p_i\\geq 0$, we are restricted to a quarter of the unit circle, just as we plotted above. Write a function that checks whether a given two-dimensional vector is a stochastic vector. That is, it should return `True` if all elements are positive and the 1-norm is approximately one, and it should return `False` otherwise. The input of the function is a numpy array."
   ]
  },
  {
   "cell_type": "code",
   "execution_count": null,
   "metadata": {
    "ExecuteTime": {
     "end_time": "2018-11-19T19:47:58.267761Z",
     "start_time": "2018-11-19T19:47:58.257885Z"
    }
   },
   "outputs": [],
   "source": [
    "def is_stochastic_vector(p: np.array):\n",
    "    ### BEGIN SOLUTION\n",
    "    if abs(np.linalg.norm(p, ord=1)-1) < 0.01 and np.all(p>=0):\n",
    "        return True\n",
    "    else:\n",
    "        return False\n",
    "    ### END SOLUTION"
   ]
  },
  {
   "cell_type": "code",
   "execution_count": null,
   "metadata": {},
   "outputs": [],
   "source": [
    "assert not is_stochastic_vector(np.array([0.2, 0.3]))\n",
    "assert not is_stochastic_vector(np.array([-0.2, 0.7]))\n",
    "assert is_stochastic_vector(np.array([0.2, 0.8]))"
   ]
  },
  {
   "cell_type": "markdown",
   "metadata": {},
   "source": [
    "**Exercise 3** (1 point). The probability of heads is just the first element in the $\\vec{p}$ and we can use a projection to extract it. For the first element of the stochastic vector, the projection is described by the matrix $\\begin{bmatrix} 1 & 0\\\\0 & 0\\end{bmatrix}$. Write a function that performs this projection on a two-element vector described by a numpy array. Your output after the projection is also a two-element vector."
   ]
  },
  {
   "cell_type": "code",
   "execution_count": null,
   "metadata": {
    "ExecuteTime": {
     "end_time": "2018-11-19T19:47:58.296678Z",
     "start_time": "2018-11-19T19:47:58.272116Z"
    }
   },
   "outputs": [],
   "source": [
    "def project_to_first_basis_vector(p: np.array):\n",
    "    ### BEGIN SOLUTION\n",
    "    Π_0 = np.array([[1, 0], [0, 0]])\n",
    "    return Π_0.dot(p)\n",
    "    ### END SOLUTION"
   ]
  },
  {
   "cell_type": "code",
   "execution_count": null,
   "metadata": {},
   "outputs": [],
   "source": [
    "assert np.alltrue(project_to_first_basis_vector(np.array([0.2, 0.3])) == np.array([0.2, 0.]))\n",
    "assert np.alltrue(project_to_first_basis_vector(np.array([1., 0.])) == np.array([1., 0.]))"
   ]
  },
  {
   "cell_type": "markdown",
   "metadata": {},
   "source": [
    "**Exercise 4** (1 point). The projection operators introduce some linear algebra to working with probability distributions. We can also use linear algebra to transform one probability distribution to another. A left *stochastic matrix* will map stochastic vectors to stochastic vectors when multiplied from the left: its columns add up to one. Write a function that takes a matrix and a vector as input arguments (both are numpy arrays), checks whether the vector is a stochastic vector and whether the matrix is left stochastic. If they are, return the matrix applied to the vector, otherwise raise a `ValueError`. You can call the function `is_stochastic_vector` that you defined above."
   ]
  },
  {
   "cell_type": "code",
   "execution_count": null,
   "metadata": {},
   "outputs": [],
   "source": [
    "def apply_stochastic_matrix(p: np.array, M: np.array):\n",
    "    \"\"\"Apply the matrix M to the vector p, but only if\n",
    "    p is a stochastic vector and M is a left stochastic\n",
    "    matrix. Otherwise raise a ValueError.\n",
    "    \"\"\"\n",
    "    ### BEGIN SOLUTION\n",
    "    if is_stochastic_vector(p) and np.alltrue(M.sum(axis=0) == [1, 1]):\n",
    "        return M.dot(p)\n",
    "    else:\n",
    "        raise ValueError\n",
    "    ### END SOLUTION"
   ]
  },
  {
   "cell_type": "code",
   "execution_count": null,
   "metadata": {},
   "outputs": [],
   "source": [
    "p = np.array([[.5], [.5]])\n",
    "M = np.array([[0.7, 0.6], [0.3, 0.4]])\n",
    "assert abs(np.linalg.norm(apply_stochastic_matrix(p, M), ord=1)-1) < 0.01\n",
    "M = np.array([[0.7, 0.6], [0.3, 0.5]])\n",
    "try:\n",
    "    apply_stochastic_matrix(p, M)\n",
    "except ValueError:\n",
    "    pass\n",
    "else:\n",
    "    raise AssertionError(\"did not raise\")"
   ]
  },
  {
   "cell_type": "markdown",
   "metadata": {},
   "source": [
    "**Exercise 5** (1 point). Create a left stochastic matrix in a variable called `M` that transforms the uniform distribution $\\vec{p}= \\begin{bmatrix} 0.5 \\\\ 0.5 \\end{bmatrix}$ to $\\begin{bmatrix} 0.6 \\\\ 0.4 \\end{bmatrix}$. `M` should be a two-dimensional numpy array."
   ]
  },
  {
   "cell_type": "code",
   "execution_count": null,
   "metadata": {},
   "outputs": [],
   "source": [
    "### BEGIN SOLUTION\n",
    "M = np.array([[0.5, 0.7], [0.5, 0.3]])\n",
    "### END SOLUTION"
   ]
  },
  {
   "cell_type": "code",
   "execution_count": null,
   "metadata": {
    "ExecuteTime": {
     "end_time": "2018-11-19T19:47:58.829415Z",
     "start_time": "2018-11-19T19:47:58.337314Z"
    }
   },
   "outputs": [],
   "source": [
    "assert np.allclose(M.dot(np.array([0.5, 0.5])), np.array([0.6, 0.4]))"
   ]
  },
  {
   "cell_type": "markdown",
   "metadata": {},
   "source": [
    "**Exercise 6** (1 point). Calculate the entropy of this distribution $\\begin{bmatrix} 0.6 \\\\ 0.4 \\end{bmatrix}$ in a variable called `S`."
   ]
  },
  {
   "cell_type": "code",
   "execution_count": null,
   "metadata": {},
   "outputs": [],
   "source": [
    "### BEGIN SOLUTION\n",
    "S = -(0.6*np.log2(0.6) + 0.4*np.log2(0.4))\n",
    "### END SOLUTION"
   ]
  },
  {
   "cell_type": "code",
   "execution_count": null,
   "metadata": {},
   "outputs": [],
   "source": [
    "### BEGIN HIDDEN TESTS\n",
    "assert abs(S-0.9709505944546686) < 0.01\n",
    "### END HIDDEN TESTS"
   ]
  },
  {
   "cell_type": "markdown",
   "metadata": {},
   "source": [
    "# Quantum states\n",
    "\n",
    "**Exercise 7** (1 point). A quantum state is a probability distribution. A qubit state is a distribution over two values, similar to the coin flipping in the classical state. A major difference is that the entries are complex numbers and the normalization is in the $l_2$ norm. Create a function similar to `is_stochastic_vector` that checks whether a vector is a valid quantum state. The input is a numpy array and the output should be boolean."
   ]
  },
  {
   "cell_type": "code",
   "execution_count": null,
   "metadata": {},
   "outputs": [],
   "source": [
    "def is_quantum_state(psi: np.array):\n",
    "    ### BEGIN SOLUTION\n",
    "    if abs(np.linalg.norm(psi, ord=2)-1) < 0.01:\n",
    "        return True\n",
    "    else:\n",
    "        return False\n",
    "    ### END SOLUTION"
   ]
  },
  {
   "cell_type": "code",
   "execution_count": null,
   "metadata": {},
   "outputs": [],
   "source": [
    "assert is_quantum_state(np.array([1/np.sqrt(2), 1/np.sqrt(2)]))\n",
    "assert is_quantum_state(np.array([-1/np.sqrt(2), 1/np.sqrt(2)]))\n",
    "assert is_quantum_state(np.array([-1/3, 2*np.sqrt(2)/3]))\n",
    "assert is_quantum_state(np.array([-1j/3, 2*np.sqrt(2)/3]))\n",
    "assert not is_quantum_state(np.array([0.2, 0.8]))"
   ]
  },
  {
   "cell_type": "markdown",
   "metadata": {},
   "source": [
    "**Exercise 8** (1 point). While working with numpy arrays is convenient, it is better to use a framework designed for quantum computing, since it often allows us to execute a circuit directly on a quantum computer. In your preferred framework, implement a circuit of a single qubit with no operation on it. You should create it in an object called `circuit`. Do not add a measurement. The evaluation will automatically branch according to which framework you chose."
   ]
  },
  {
   "cell_type": "code",
   "execution_count": null,
   "metadata": {
    "ExecuteTime": {
     "end_time": "2018-11-19T19:47:59.562010Z",
     "start_time": "2018-11-19T19:47:58.831645Z"
    }
   },
   "outputs": [],
   "source": [
    "### BEGIN SOLUTION\n",
    "q = QuantumRegister(1)\n",
    "c = ClassicalRegister(1)\n",
    "circuit = QuantumCircuit(q, c)\n",
    "circuit.iden(q[0])\n",
    "# Forest version\n",
    "# circuit = Program()\n",
    "### END SOLUTION"
   ]
  },
  {
   "cell_type": "code",
   "execution_count": null,
   "metadata": {},
   "outputs": [],
   "source": [
    "amplitudes = get_amplitudes(circuit)\n",
    "assert abs(amplitudes[0]-1.0) < 0.01"
   ]
  },
  {
   "cell_type": "markdown",
   "metadata": {},
   "source": [
    "**Exercise 9** (1 point). In the execution branching above, you see that we use the wavefunction simulator. This allows us to use the probability amplitudes as usual numpy arrays, as you can see above. If we ran the circuit on an actual quantum device, we would not be able to inspect the wavefunction, but we would have to rely on the statistics of measurements to understand what is happening in the circuit.\n",
    "\n",
    "Create a circuit in your preferred framework that creates an equal superposition in a qubit using a Hadamard gate. Again, the name of the object should be `circuit`. The evaluation will be based on measurement statistics. In this case, you should explicitly specify the measurement on the qubit"
   ]
  },
  {
   "cell_type": "code",
   "execution_count": null,
   "metadata": {
    "ExecuteTime": {
     "end_time": "2018-11-19T19:47:59.567831Z",
     "start_time": "2018-11-19T19:47:59.563751Z"
    }
   },
   "outputs": [],
   "source": [
    "### BEGIN SOLUTION\n",
    "circuit = QuantumCircuit(q, c)\n",
    "circuit.h(q[0])\n",
    "circuit.measure(q, c)\n",
    "# Forest version\n",
    "# circuit = Program()\n",
    "# ro = circuit.declare('ro', 'BIT', 1)\n",
    "# circuit += H(0)\n",
    "# circuit += MEASURE(0, ro[0])\n",
    "### END SOLUTION"
   ]
  },
  {
   "cell_type": "code",
   "execution_count": null,
   "metadata": {},
   "outputs": [],
   "source": [
    "counts = get_counts(circuit)\n",
    "assert abs(counts['0']/100-.5) < 0.2"
   ]
  },
  {
   "cell_type": "markdown",
   "metadata": {},
   "source": [
    "**Exercise 10** (1 point). If you plotted the state before measurement on the Bloch sphere, it would have been on the equator halfway between the $|0\\rangle$ and $|1\\rangle$ states, and the tip of the X axis. If you apply the Hadamard on the $|1\\rangle$, it would have been the point on the opposite and of the X axis, since the resulting superposition would have had a -1 amplitude for $|1\\rangle$. The measurement statistics, however, would be identical. The negative sign plays a role in interference: for instance, applying a Hadamard again, would take you back to $|1\\rangle$. Create the superposition after applying the Hadamard gate on $|1\\rangle$. We will verify whether it picked up the phase. Do not include a measurement, since we will inspect the wavefunction."
   ]
  },
  {
   "cell_type": "code",
   "execution_count": null,
   "metadata": {
    "ExecuteTime": {
     "end_time": "2018-11-19T19:48:00.622667Z",
     "start_time": "2018-11-19T19:48:00.379562Z"
    }
   },
   "outputs": [],
   "source": [
    "### BEGIN SOLUTION\n",
    "circuit = QuantumCircuit(q, c)\n",
    "circuit.x(q[0])\n",
    "circuit.h(q[0])\n",
    "# Forest version\n",
    "# circuit = Program()\n",
    "# circuit += X(0)\n",
    "# circuit += H(0)\n",
    "### END SOLUTION"
   ]
  },
  {
   "cell_type": "code",
   "execution_count": null,
   "metadata": {},
   "outputs": [],
   "source": [
    "amplitudes = get_amplitudes(circuit)\n",
    "assert abs(amplitudes[1]+np.sqrt(2)/2) < 0.01"
   ]
  },
  {
   "cell_type": "markdown",
   "metadata": {},
   "source": [
    "# More qubits and entanglement\n",
    "\n",
    "**Exercise 11** (1 point). To get a sense of multiqubit states, it is important to be confident with the tensor product operation. Create a function that returns the four basis vectors, $|00\\rangle$, $|01\\rangle$, $|10\\rangle$, and $|11\\rangle$, of the tensor product space $\\mathbb{C}^2\\otimes\\mathbb{C}^2$. The order in which they appear does not matter. The return value should be a list of four numpy arrays."
   ]
  },
  {
   "cell_type": "code",
   "execution_count": null,
   "metadata": {
    "ExecuteTime": {
     "end_time": "2018-11-19T19:48:00.928395Z",
     "start_time": "2018-11-19T19:48:00.913259Z"
    }
   },
   "outputs": [],
   "source": [
    "def create_canonical_basis():\n",
    "    ### BEGIN SOLUTION\n",
    "    qubit_basis = [np.array([1, 0]), np.array([0, 1])]\n",
    "    basis = []\n",
    "    for e1 in qubit_basis:\n",
    "        for e2 in qubit_basis:\n",
    "            basis.append(np.kron(e1, e2))\n",
    "    return basis\n",
    "    ### END SOLUTION"
   ]
  },
  {
   "cell_type": "code",
   "execution_count": null,
   "metadata": {},
   "outputs": [],
   "source": [
    "basis = create_canonical_basis()\n",
    "assert len(basis) == 4\n",
    "if basis[0].shape != (4, ):\n",
    "    basis = [basis_vector.reshape((4, )) for basis_vector in basis]\n",
    "### BEGIN HIDDEN TESTS\n",
    "assert any([np.alltrue(np.array([1, 0, 0, 0]) == basis_vector) for basis_vector in basis])\n",
    "assert any([np.alltrue(np.array([0, 1, 0, 0]) == basis_vector) for basis_vector in basis])\n",
    "assert any([np.alltrue(np.array([0, 0, 1, 0]) == basis_vector) for basis_vector in basis])\n",
    "assert any([np.alltrue(np.array([0, 0, 0, 1]) == basis_vector) for basis_vector in basis])\n",
    "### END HIDDEN TESTS"
   ]
  },
  {
   "cell_type": "markdown",
   "metadata": {},
   "source": [
    "**Exercise 12** (1 point). A generic product state has the form  $\\begin{bmatrix}a_0b_0\\\\ a_0b_1\\\\ a_1b_0\\\\ a_1b_1\\end{bmatrix}=a_0b_0|00\\rangle + a_0b_1|01\\rangle + a_1b_0|10\\rangle + a_1b_1|11\\rangle$ on $\\mathbb{C}^2\\otimes\\mathbb{C}^2$, but not all. We can use the basis vectors to form vectors in the space that do not have a product structure. These are entangled states that show strong correlations. Entanglement is an important resource in quantum computing and being able to create a circuit that generates an entangled state is critical. Implement a circuit in your preferred framework to create the $|\\phi^-\\rangle = \\frac{1}{\\sqrt{2}}(|00\\rangle-|11\\rangle)$ state, that is, almost the same as the $|\\phi^+\\rangle$ state, but with the opposite sign of the probability amplitude of $|11\\rangle$. Do not include a measurement, as we will verify the state with the wavefunction simulator"
   ]
  },
  {
   "cell_type": "code",
   "execution_count": null,
   "metadata": {
    "ExecuteTime": {
     "end_time": "2018-11-19T19:48:01.146195Z",
     "start_time": "2018-11-19T19:48:00.930859Z"
    }
   },
   "outputs": [],
   "source": [
    "### BEGIN SOLUTION\n",
    "q = QuantumRegister(2)\n",
    "c = ClassicalRegister(2)\n",
    "circuit = QuantumCircuit(q, c)\n",
    "circuit.x(q[0])\n",
    "circuit.h(q[0])\n",
    "circuit.cx(q[0], q[1])\n",
    "# Forest version\n",
    "# circuit = Program()\n",
    "# circuit += X(0)\n",
    "# circuit += H(0)\n",
    "# circuit += CNOT(0, 1)\n",
    "### END SOLUTION"
   ]
  },
  {
   "cell_type": "code",
   "execution_count": null,
   "metadata": {},
   "outputs": [],
   "source": [
    "amplitudes = get_amplitudes(circuit)\n",
    "assert np.allclose(np.array([np.sqrt(2)/2, 0, 0, -np.sqrt(2)/2]), amplitudes)"
   ]
  }
 ],
 "metadata": {
  "kernelspec": {
   "display_name": "Python 3",
   "language": "python",
   "name": "python3"
  },
  "language_info": {
   "codemirror_mode": {
    "name": "ipython",
    "version": 3
   },
   "file_extension": ".py",
   "mimetype": "text/x-python",
   "name": "python",
   "nbconvert_exporter": "python",
   "pygments_lexer": "ipython3",
   "version": "3.7.3"
  }
 },
 "nbformat": 4,
 "nbformat_minor": 2
}
