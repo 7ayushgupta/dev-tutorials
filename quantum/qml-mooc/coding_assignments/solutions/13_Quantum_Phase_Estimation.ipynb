{
 "cells": [
  {
   "cell_type": "markdown",
   "metadata": {},
   "source": [
    "Before you begin, execute this cell to import numpy and packages from the D-Wave Ocean suite, and all necessary functions for the gate-model framework you are going to use, whether that is the Forest SDK or Qiskit. In the case of Forest SDK, it also starts the qvm and quilc servers."
   ]
  },
  {
   "cell_type": "code",
   "execution_count": null,
   "metadata": {},
   "outputs": [],
   "source": [
    "%run -i \"assignment_helper.py\"\n",
    "%matplotlib inline"
   ]
  },
  {
   "cell_type": "markdown",
   "metadata": {},
   "source": [
    "# Quantum Fourier Transform\n",
    "\n",
    "**Exercise 1** (3 points). The quantum Fourier transform acts on an amplitude-encoded variant of a normalized vector, the quantum state $|x\\rangle=\\sum_{i=0}^{N-1} x_i |i \\rangle$. It maps this state to $|y\\rangle=\\sum_{k=0}^{N-1} y_k |k \\rangle$, where $y_k = \\frac{1}{\\sqrt{N}}\\sum_{j=0}^{N-1}x_je^{\\boldsymbol{2\\pi i} \\frac{jk}{N}}$. If you have a two-dimensional vector to transform, you only need a single qubit, and the transformation reduces to $U |x \\rangle = \\frac{1}{\\sqrt{2}} \\left(|0\\rangle + e^{\\boldsymbol{2\\pi i} 0.x_1} |1\\rangle\\right)$. Implement this circuit. Place your solution in an object called `qft`. "
   ]
  },
  {
   "cell_type": "code",
   "execution_count": null,
   "metadata": {
    "ExecuteTime": {
     "end_time": "2019-01-31T14:49:02.890655Z",
     "start_time": "2019-01-31T14:49:02.841869Z"
    }
   },
   "outputs": [],
   "source": [
    "### BEGIN SOLUTION\n",
    "# Qiskit version\n",
    "q = QuantumRegister(1)\n",
    "c = ClassicalRegister(1)\n",
    "qft = QuantumCircuit(q, c)\n",
    "qft.h(q[0])\n",
    "# Forest version\n",
    "# qft = Program()\n",
    "# qft += H(0)\n",
    "## END SOLUTION"
   ]
  },
  {
   "cell_type": "code",
   "execution_count": null,
   "metadata": {},
   "outputs": [],
   "source": [
    "### BEGIN HIDDEN TESTS\n",
    "amplitudes = get_amplitudes(qft)\n",
    "assert np.allclose(amplitudes, np.array([1/np.sqrt(2), 1/np.sqrt(2)]))\n",
    "### END HIDDEN TESTS"
   ]
  },
  {
   "cell_type": "markdown",
   "metadata": {},
   "source": [
    "**Exercise 2** (1 point). Implement the inverse quantum Fourier transformation on a single qubit. Place your solution in an object called `iqft`. "
   ]
  },
  {
   "cell_type": "code",
   "execution_count": null,
   "metadata": {},
   "outputs": [],
   "source": [
    "### BEGIN SOLUTION\n",
    "# Qiskit version\n",
    "q = QuantumRegister(1)\n",
    "c = ClassicalRegister(1)\n",
    "iqft = QuantumCircuit(q, c)\n",
    "iqft.h(q[0])\n",
    "# Forest version\n",
    "# iqft = Program()\n",
    "# iqft += H(0)\n",
    "## END SOLUTION"
   ]
  },
  {
   "cell_type": "code",
   "execution_count": null,
   "metadata": {},
   "outputs": [],
   "source": [
    "### BEGIN HIDDEN TESTS\n",
    "amplitudes = get_amplitudes(iqft)\n",
    "assert np.allclose(amplitudes, np.array([1/np.sqrt(2), 1/np.sqrt(2)]))\n",
    "### END HIDDEN TESTS"
   ]
  },
  {
   "cell_type": "markdown",
   "metadata": {},
   "source": [
    "# Quantum phase estimation\n",
    "\n",
    "**Exercise 3** (3 points). Phase estimation pivots on the controlled application of powers of a unitary matrix, followed by an inverse Fourier transformation. Take the $2\\times 2$ unitary matrix $\\begin{bmatrix}1 & 0 \\\\0 & i\\end{bmatrix}$. This operation has two eigenvectors, $|0\\rangle$ and $|1\\rangle$. Implement the first part of the quantum phase estimation with two ancilla qubits: add the necessary Hadamard gates on the ancilla qubits and apply $C-U^{2^0}$ and $C-U^{2^1}$. Qubits 0 and 1 should be the ancilla, and qubit 2 contains the eigenvector -- you can assume that this is $|0\\rangle$. Place your solution in an object called `circuit`. "
   ]
  },
  {
   "cell_type": "code",
   "execution_count": null,
   "metadata": {},
   "outputs": [],
   "source": [
    "### BEGIN SOLUTION\n",
    "q = QuantumRegister(3)\n",
    "c = ClassicalRegister(2)\n",
    "circuit = QuantumCircuit(q, c)\n",
    "circuit.h(q[0])\n",
    "circuit.h(q[1])\n",
    "circuit.cu1(np.pi/2, q[1], q[2])\n",
    "circuit.cz(q[0], q[2])\n",
    "### END SOLUTION"
   ]
  },
  {
   "cell_type": "code",
   "execution_count": null,
   "metadata": {},
   "outputs": [],
   "source": [
    "amplitudes = get_amplitudes(circuit)\n",
    "assert np.allclose(amplitudes, np.array([0.5+0.j, 0.5+0.j, 0.5+0.j, 0.5+0.j, 0. +0.j, 0. +0.j, 0. +0.j, 0. +0.j]))"
   ]
  },
  {
   "cell_type": "markdown",
   "metadata": {},
   "source": [
    "**Exercise 4** (1 point). Apply the same circuit to the other eigenvector. Place your solution in an object called `circuit_2`."
   ]
  },
  {
   "cell_type": "code",
   "execution_count": null,
   "metadata": {
    "ExecuteTime": {
     "end_time": "2019-01-31T14:52:12.660880Z",
     "start_time": "2019-01-31T14:52:12.657762Z"
    }
   },
   "outputs": [],
   "source": [
    "### BEGIN SOLUTION\n",
    "q = QuantumRegister(3)\n",
    "c = ClassicalRegister(3)\n",
    "circuit_2 = QuantumCircuit(q, c)\n",
    "circuit_2.x(q[2])\n",
    "circuit_2.h(q[0])\n",
    "circuit_2.h(q[1])\n",
    "circuit_2.cu1(np.pi/2, q[1], q[2])\n",
    "circuit_2.cz(q[0], q[2])\n",
    "### END SOLUTION"
   ]
  },
  {
   "cell_type": "code",
   "execution_count": null,
   "metadata": {},
   "outputs": [],
   "source": [
    "amplitudes = get_amplitudes(circuit_2)\n",
    "assert np.allclose(amplitudes, np.array([ 0. +0.j ,  0. +0.j ,  0. +0.j ,  0. +0.j ,  0.5+0.j , -0.5+0.j ,\n",
    "                                          0. +0.5j,  0. -0.5j]))"
   ]
  }
 ],
 "metadata": {
  "kernelspec": {
   "display_name": "Python 3",
   "language": "python",
   "name": "python3"
  },
  "language_info": {
   "codemirror_mode": {
    "name": "ipython",
    "version": 3
   },
   "file_extension": ".py",
   "mimetype": "text/x-python",
   "name": "python",
   "nbconvert_exporter": "python",
   "pygments_lexer": "ipython3",
   "version": "3.7.3"
  },
  "varInspector": {
   "cols": {
    "lenName": 16,
    "lenType": 16,
    "lenVar": 40
   },
   "kernels_config": {
    "python": {
     "delete_cmd_postfix": "",
     "delete_cmd_prefix": "del ",
     "library": "var_list.py",
     "varRefreshCmd": "print(var_dic_list())"
    },
    "r": {
     "delete_cmd_postfix": ") ",
     "delete_cmd_prefix": "rm(",
     "library": "var_list.r",
     "varRefreshCmd": "cat(var_dic_list()) "
    }
   },
   "types_to_exclude": [
    "module",
    "function",
    "builtin_function_or_method",
    "instance",
    "_Feature"
   ],
   "window_display": false
  }
 },
 "nbformat": 4,
 "nbformat_minor": 2
}
