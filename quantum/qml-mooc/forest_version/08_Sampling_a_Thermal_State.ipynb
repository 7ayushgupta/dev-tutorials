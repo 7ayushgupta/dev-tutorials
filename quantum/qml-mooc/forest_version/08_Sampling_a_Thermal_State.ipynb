{
 "cells": [
  {
   "cell_type": "markdown",
   "metadata": {
    "collapsed": true
   },
   "source": [
    "In the previous notebook, we showed how QAOA can approximate the ground state $|\\psi_0\\rangle$ of a many-body system characterized by a Hamiltonian $H$. We connected this problem to binary optimization in computer science in notebook 4, and used this connection to understand adiabatic quantum computing and variational algorithms.\n",
    "\n",
    "However, we also talked about the engineering constraints we face in real devices: the evolution in these devices is actually that of an open quantum system, where the quantum processing unit interacts with the environment. In that case, the ground state of $H$ won't be a pure state $|\\psi_0\\rangle$ but a density matrix $\\rho_0$\n",
    "\n",
    "<img src=\"../figures/open_system.svg\" alt=\"A quantum processor as an open quantum system\" style=\"width: 400px;\"/>\n",
    "\n",
    "The environment is defined by a temperature $T$, and if we let the system equilibrate, the QPU will become thermalized at temperature $T$. As we saw in the notebook on evolution in open and closed systems, the energy of the states will follow a Boltzmann distribution: $\\rho_0=\\frac{1}{Z} e^{-H/T}$ where $Z=tr (e^{-H/T})$ is a normalization factor (called the *partition function*), ensuring that $tr(\\rho_0)=1$. The inverse temperature $1/T$ is often denoted by $\\beta$, so the state can also be written as $\\rho_0=\\frac{1}{Z} e^{-\\beta H}$. If $H$ has a discrete basis of orthonormal eigenstates $\\{|n\\rangle\\}$ with eigenvalues $\\{E_n\\}$, we can write $H=\\sum_n E_n |n\\rangle \\langle n|$ and $\\rho_0=\\frac{1}{Z} \\sum_n e^{-E_n/T} |n\\rangle \\langle n|$ (since exponentiating a diagonal operator consists in exponentiating the elements of the diagonal). Hence, the thermal density matrix is a mixed state where each eigenstate of $H$ with energy $E$ has a classical probability $P(E)=\\frac{1}{Z} e^{-E/T}$, a Boltzmann distribution. We can see that the minimum energy eigenstate will have the highest probability. When $T \\rightarrow 0$, the minimum energy eigenstate will have a probability close to $1$. When $T \\rightarrow \\infty$, all the eigenstates tend to have equal probability.\n",
    "\n",
    "The question that arises now is: how to approximate this thermalized state $\\rho_0$ of the Hamiltonian $H$ using a quantum circuit? For pure ground states, there were two methods: quantum annealing and QAOA. We will see here that those two methods can be adjusted to also prepare thermalized density matrices.\n",
    "\n",
    "We will see later that we can use this preparation to train certain machine learning models.\n",
    "\n",
    "# Quantum annealing\n",
    "\n",
    "Let us start by importing a handful of packages:"
   ]
  },
  {
   "cell_type": "code",
   "execution_count": 1,
   "metadata": {
    "ExecuteTime": {
     "end_time": "2019-01-30T20:39:01.954721Z",
     "start_time": "2019-01-30T20:39:01.940764Z"
    }
   },
   "outputs": [
    {
     "ename": "ImportError",
     "evalue": "No module named dimod",
     "output_type": "error",
     "traceback": [
      "\u001b[0;31m---------------------------------------------------------------------------\u001b[0m",
      "\u001b[0;31mImportError\u001b[0m                               Traceback (most recent call last)",
      "\u001b[0;32m<ipython-input-1-7ffdc5e66a52>\u001b[0m in \u001b[0;36m<module>\u001b[0;34m()\u001b[0m\n\u001b[1;32m      2\u001b[0m \u001b[0;32mimport\u001b[0m \u001b[0mmatplotlib\u001b[0m\u001b[0;34m.\u001b[0m\u001b[0mpyplot\u001b[0m \u001b[0;32mas\u001b[0m \u001b[0mplt\u001b[0m\u001b[0;34m\u001b[0m\u001b[0m\n\u001b[1;32m      3\u001b[0m \u001b[0;32mimport\u001b[0m \u001b[0mnumpy\u001b[0m \u001b[0;32mas\u001b[0m \u001b[0mnp\u001b[0m\u001b[0;34m\u001b[0m\u001b[0m\n\u001b[0;32m----> 4\u001b[0;31m \u001b[0;32mimport\u001b[0m \u001b[0mdimod\u001b[0m\u001b[0;34m\u001b[0m\u001b[0m\n\u001b[0m\u001b[1;32m      5\u001b[0m \u001b[0mget_ipython\u001b[0m\u001b[0;34m(\u001b[0m\u001b[0;34m)\u001b[0m\u001b[0;34m.\u001b[0m\u001b[0mmagic\u001b[0m\u001b[0;34m(\u001b[0m\u001b[0;34mu'matplotlib inline'\u001b[0m\u001b[0;34m)\u001b[0m\u001b[0;34m\u001b[0m\u001b[0m\n\u001b[1;32m      6\u001b[0m \u001b[0mnp\u001b[0m\u001b[0;34m.\u001b[0m\u001b[0mset_printoptions\u001b[0m\u001b[0;34m(\u001b[0m\u001b[0mprecision\u001b[0m\u001b[0;34m=\u001b[0m\u001b[0;36m3\u001b[0m\u001b[0;34m,\u001b[0m \u001b[0msuppress\u001b[0m\u001b[0;34m=\u001b[0m\u001b[0mTrue\u001b[0m\u001b[0;34m)\u001b[0m\u001b[0;34m\u001b[0m\u001b[0m\n",
      "\u001b[0;31mImportError\u001b[0m: No module named dimod"
     ]
    }
   ],
   "source": [
    "import itertools\n",
    "import matplotlib.pyplot as plt\n",
    "import numpy as np\n",
    "import dimod\n",
    "%matplotlib inline\n",
    "np.set_printoptions(precision=3, suppress=True)"
   ]
  },
  {
   "cell_type": "markdown",
   "metadata": {},
   "source": [
    "We are interested in the thermal state of the classical Ising model. We create a random model over ten spins and we will sample a hundred states."
   ]
  },
  {
   "cell_type": "code",
   "execution_count": null,
   "metadata": {
    "ExecuteTime": {
     "end_time": "2018-11-19T20:10:00.449815Z",
     "start_time": "2018-11-19T20:10:00.437909Z"
    }
   },
   "outputs": [],
   "source": [
    "n_spins = 10\n",
    "n_samples = 1000\n",
    "h = {v: np.random.uniform(-2, 2) for v in range(n_spins)}\n",
    "J = {}\n",
    "for u, v in itertools.combinations(h, 2):\n",
    "    if np.random.random() < .05:\n",
    "        J[(u, v)] = np.random.uniform(-1, 1)\n",
    "model = dimod.BinaryQuadraticModel(h, J, 0.0, dimod.SPIN)\n",
    "sampler = dimod.SimulatedAnnealingSampler()"
   ]
  },
  {
   "cell_type": "markdown",
   "metadata": {},
   "source": [
    "Let's sample the energies at different temperatures. The `dimod` implementation of simulated annealing allows us to set an initial and final temperature for the annealing. If we set it to the same value, we mimic the effect of a finite temperature and we will have a wider range of configurations and energy levels in the samples. The next cell can take a while to execute."
   ]
  },
  {
   "cell_type": "code",
   "execution_count": null,
   "metadata": {
    "ExecuteTime": {
     "end_time": "2018-11-19T20:11:12.304140Z",
     "start_time": "2018-11-19T20:10:00.452460Z"
    }
   },
   "outputs": [],
   "source": [
    "temperature_0 = 1\n",
    "response = sampler.sample(model, beta_range=[1/temperature_0, 1/temperature_0], num_reads=n_samples)\n",
    "energies_0 = [solution.energy for solution in response.data()]\n",
    "temperature_1 = 10\n",
    "response = sampler.sample(model, beta_range=[1/temperature_1, 1/temperature_1], num_reads=n_samples)\n",
    "energies_1 = [solution.energy for solution in response.data()]\n",
    "temperature_2 = 100\n",
    "response = sampler.sample(model, beta_range=[1/temperature_2, 1/temperature_2], num_reads=n_samples)\n",
    "energies_2 = [solution.energy for solution in response.data()]"
   ]
  },
  {
   "cell_type": "markdown",
   "metadata": {},
   "source": [
    "We define a function to plot the resulting probability distribution."
   ]
  },
  {
   "cell_type": "code",
   "execution_count": null,
   "metadata": {
    "ExecuteTime": {
     "end_time": "2018-11-19T20:11:12.764017Z",
     "start_time": "2018-11-19T20:11:12.307684Z"
    }
   },
   "outputs": [],
   "source": [
    "def plot_probabilities(energy_samples, temperatures):\n",
    "    fig, ax = plt.subplots()\n",
    "    for i, (energies, T) in enumerate(zip(energy_samples, temperatures)):\n",
    "        probabilities = np.exp(-np.array(sorted(energies))/T)\n",
    "        Z = probabilities.sum()\n",
    "        probabilities /= Z\n",
    "        ax.plot(energies, probabilities, linewidth=3, label = \"$T_\" + str(i+1)+\"$\")\n",
    "    minimum_energy = min([min(energies) for energies in energy_samples])\n",
    "    maximum_energy = max([max(energies) for energies in energy_samples])\n",
    "    ax.set_xlim(minimum_energy, maximum_energy)\n",
    "    ax.set_xticks([])\n",
    "    ax.set_yticks([])\n",
    "    ax.set_xlabel('Energy')\n",
    "    ax.set_ylabel('Probability')\n",
    "    ax.legend()\n",
    "    plt.show()\n",
    "\n",
    "plot_probabilities([energies_0, energies_1, energies_2], \n",
    "                   [temperature_0, temperature_1, temperature_2])"
   ]
  },
  {
   "cell_type": "markdown",
   "metadata": {},
   "source": [
    "Just as we saw in the introduction, the distribution flattens out at a high temperature ($T_3$). On the other hand, the energy is peaked for a low temperature, and we do not even have samples for high-energy states."
   ]
  },
  {
   "cell_type": "markdown",
   "metadata": {},
   "source": [
    "# Quantum Approximate Thermalization\n",
    "\n",
    "There are many results for preparing a thermal state on a gate-model quantum computer, but most of them need a large-scale device. More recently, a protocol for approximating thermalization was developed using shallow circuits [[1](#1)]. The idea is that if we knew that the thermal state was a pure state $\\psi$ (which means $\\rho=|\\psi \\rangle \\langle \\psi |$), we could apply QAOA to get to the thermal state of a target Hamiltonian. Since QAOA approximates the adiabatic pathway, it should be a conservative change, so at the end of it, we would be close to the thermal state of the target Hamiltonian.\n",
    "\n",
    "To find the thermal state of the simple system, the trick is to purify $\\rho$ on a larger Hilbert space. If we call $\\mathcal{H_1}$ our current Hilbert space, purifying a density matrix $\\rho$ consists of finding a second Hilbert space $\\mathcal{H_2}$ such that there exists $| \\psi \\rangle \\in \\mathcal{H_1} \\otimes \\mathcal{H_2}$ such that $\\rho = \\textrm{Tr}_{\\mathcal{H_2}} \\left( |\\psi \\rangle \\langle \\psi | \\right)$, where $\\textrm{Tr}_{\\mathcal{H_2}}$ is the partial trace taken over the second Hilbert space -- in essence, we are marginalizing the probability distribution. This resembles the idea of what we shown in the notebook on measurements and mixed states: if we trace out a subsystem of the maximally entangled state $|\\phi^+\\rangle$, we get the maximally mixed state. The maximally mixed state is essentially a thermal state at infinite temperature.\n",
    "\n",
    "It can be shown that $| \\psi \\rangle =1/\\sqrt{2 \\cosh \\frac{1}{2T}} \\sum_{z \\in {-1,1}} e^{- \\frac{z}{2T}} |z \\rangle_{\\mathcal{H_1}} \\otimes | z \\rangle_{\\mathcal{H_2}}$ purifies $\\rho=\\frac{1}{Z}e^{- H_m/T}$ [[1](#1)], where $H_m$ is the mixing Hamiltonian in QAOA. This state can be built with a circuit composed uniquely of RX gates and CNOT gates.\n",
    "\n",
    "Code inspired by the [original code](https://github.com/MichaelBroughton/QABoM/blob/master/qRBM_final.py) of the algorithm"
   ]
  },
  {
   "cell_type": "code",
   "execution_count": null,
   "metadata": {
    "ExecuteTime": {
     "end_time": "2019-01-30T20:41:28.073366Z",
     "start_time": "2019-01-30T20:41:27.157918Z"
    }
   },
   "outputs": [],
   "source": [
    "import numpy as np\n",
    "import matplotlib.pyplot as plt\n",
    "%matplotlib inline\n",
    "import itertools\n",
    "from scipy.optimize import fmin_bfgs\n",
    "from pyquil import get_qc, Program, api\n",
    "from pyquil.paulis import PauliSum, PauliTerm\n",
    "from pyquil.gates import *\n",
    "from grove.pyqaoa.qaoa import QAOA\n",
    "from forest_tools import *\n",
    "qvm_server, quilc_server, fc = init_qvm_and_quilc()\n",
    "qvm = api.QVMConnection(endpoint=fc.sync_endpoint, compiler_endpoint=fc.compiler_endpoint)"
   ]
  },
  {
   "cell_type": "markdown",
   "metadata": {},
   "source": [
    "## High temperature"
   ]
  },
  {
   "cell_type": "markdown",
   "metadata": {},
   "source": [
    "We create an example system of two qubits that needs two extra qubits for purification. In this first example, we set $T=1000$."
   ]
  },
  {
   "cell_type": "code",
   "execution_count": null,
   "metadata": {
    "ExecuteTime": {
     "end_time": "2019-01-30T20:41:29.677294Z",
     "start_time": "2019-01-30T20:41:29.674224Z"
    }
   },
   "outputs": [],
   "source": [
    "n_qubits = 2\n",
    "n_system = n_qubits * 2\n",
    "T = 1000 # temperature\n",
    "p = 1 # QAOA parameter"
   ]
  },
  {
   "cell_type": "markdown",
   "metadata": {},
   "source": [
    "We now define an Ising Hamiltonian $H_c=-\\sum J_{ij} \\sigma_i\\sigma_j$. Like in the previous notebook, we choose the weights such that $H_c=-\\sigma_1 \\sigma_2$, whose minimum is reached when $\\sigma_1 = \\sigma_2$. This time, we will use the implementation of QAOA found in [Grove](https://grove-docs.readthedocs.io), the high-level library built on top of PyQuil. It takes as parameters a list of `PauliSum` (each `PauliSum` being one term in the Hamiltonian)"
   ]
  },
  {
   "cell_type": "code",
   "execution_count": null,
   "metadata": {
    "ExecuteTime": {
     "end_time": "2019-01-30T20:41:30.344935Z",
     "start_time": "2019-01-30T20:41:30.337870Z"
    }
   },
   "outputs": [],
   "source": [
    "J = np.array([[0,1],[0,0]]) # weight matrix of the ising model. Only the coefficient (0,1) is non-zero.\n",
    "\n",
    "Hc = []\n",
    "for i in range(n_qubits):\n",
    "    for j in range(n_qubits):\n",
    "        Hc.append(PauliSum([PauliTerm(\"Z\", i, -J[i, j]) * PauliTerm(\"Z\", j, 1.0)]))\n",
    "\n",
    "Hm = [PauliSum([PauliTerm(\"X\", i, 1.0)]) for i in range(n_qubits)]"
   ]
  },
  {
   "cell_type": "markdown",
   "metadata": {},
   "source": [
    "We prepare the intial state $| \\psi \\rangle =1/\\sqrt{2 \\cosh \\frac{1}{2T}} \\sum_{z \\in {-1,1}} e^{- z/T} |z \\rangle_{\\mathcal{H_1}} \\otimes | z \\rangle_{\\mathcal{H_2}}$ (see introduction of the section):"
   ]
  },
  {
   "cell_type": "code",
   "execution_count": null,
   "metadata": {
    "ExecuteTime": {
     "end_time": "2019-03-22T13:55:56.591465Z",
     "start_time": "2019-03-22T13:55:56.585240Z"
    }
   },
   "outputs": [],
   "source": [
    "def prepare_init_state(T):\n",
    "    init_state = Program()\n",
    "\n",
    "    α = 2 * np.arctan(np.exp(-1/T))\n",
    "    for i in range(n_qubits):\n",
    "        init_state += RX(α, n_qubits+i)\n",
    "        init_state += CNOT(n_qubits+i, i)\n",
    "        \n",
    "    return init_state"
   ]
  },
  {
   "cell_type": "markdown",
   "metadata": {},
   "source": [
    "We use Grove's implementation of [`QAOA`](https://grove-docs.readthedocs.io/en/latest/qaoa.html)"
   ]
  },
  {
   "cell_type": "code",
   "execution_count": null,
   "metadata": {
    "ExecuteTime": {
     "end_time": "2019-01-30T20:41:36.134373Z",
     "start_time": "2019-01-30T20:41:36.128100Z"
    }
   },
   "outputs": [],
   "source": [
    "def get_optimized_circuit(init_state):\n",
    "    qaoa = QAOA(qvm,\n",
    "                qubits=range(n_system),\n",
    "                steps=p,\n",
    "                ref_ham=Hm,\n",
    "                cost_ham=Hc,\n",
    "                driver_ref=init_state,\n",
    "                store_basis=True,\n",
    "                minimizer=fmin_bfgs,\n",
    "                minimizer_kwargs={'maxiter': 50})\n",
    "    beta, gamma = qaoa.get_angles()\n",
    "    return qaoa.get_parameterized_program()(np.hstack((beta, gamma)))"
   ]
  },
  {
   "cell_type": "markdown",
   "metadata": {},
   "source": [
    "And we wrap everything up in a final function:"
   ]
  },
  {
   "cell_type": "code",
   "execution_count": null,
   "metadata": {
    "ExecuteTime": {
     "end_time": "2019-01-30T20:41:37.123267Z",
     "start_time": "2019-01-30T20:41:37.120202Z"
    }
   },
   "outputs": [],
   "source": [
    "def get_thermal_state(T):\n",
    "    return get_optimized_circuit(prepare_init_state(T))"
   ]
  },
  {
   "cell_type": "markdown",
   "metadata": {},
   "source": [
    "We get the final state as a `Program` instance"
   ]
  },
  {
   "cell_type": "code",
   "execution_count": null,
   "metadata": {
    "ExecuteTime": {
     "end_time": "2019-01-30T20:41:39.044815Z",
     "start_time": "2019-01-30T20:41:38.883677Z"
    }
   },
   "outputs": [],
   "source": [
    "thermal_state = get_thermal_state(T)"
   ]
  },
  {
   "cell_type": "markdown",
   "metadata": {},
   "source": [
    "Finally, we reformat the final results, measure out the result, and plot the energy distribution:"
   ]
  },
  {
   "cell_type": "code",
   "execution_count": null,
   "metadata": {
    "ExecuteTime": {
     "end_time": "2019-01-30T20:41:44.634211Z",
     "start_time": "2019-01-30T20:41:44.628859Z"
    }
   },
   "outputs": [],
   "source": [
    "def get_energy(x):\n",
    "    return np.sum([[-J[i,j] * x[i] * x[j] for j in range(n_qubits)] for i in range(n_qubits)])\n",
    "\n",
    "def get_energy_distribution(thermal_state):\n",
    "    measures = np.array(qvm.run_and_measure(thermal_state, range(n_qubits), trials=1000))\n",
    "\n",
    "    measures[measures == 0] = -1\n",
    "    list_energy = np.array([get_energy(m) for m in measures])\n",
    "    return list_energy"
   ]
  },
  {
   "cell_type": "code",
   "execution_count": null,
   "metadata": {
    "ExecuteTime": {
     "end_time": "2019-01-30T20:41:46.073281Z",
     "start_time": "2019-01-30T20:41:45.931583Z"
    }
   },
   "outputs": [],
   "source": [
    "energy_distribution = get_energy_distribution(thermal_state)\n",
    "hist = plt.hist(energy_distribution, density=True)"
   ]
  },
  {
   "cell_type": "markdown",
   "metadata": {},
   "source": [
    "The two eigenvalues, i.e. possible energies, of our Hamiltonian $H=\\sigma_1 \\sigma_2$ are $E=-1$ and $E=1$. At infinite temperature, they should be assigned an equal probability, which is the case in the histogram above. Let's repeat the experiment at a lower temperature."
   ]
  },
  {
   "cell_type": "markdown",
   "metadata": {},
   "source": [
    "## Low temperature\n",
    "\n",
    "We set $T=0.1$. With this, we should get the lowest energy with a high probability."
   ]
  },
  {
   "cell_type": "code",
   "execution_count": null,
   "metadata": {
    "ExecuteTime": {
     "end_time": "2019-01-30T20:41:48.076217Z",
     "start_time": "2019-01-30T20:41:48.073664Z"
    }
   },
   "outputs": [],
   "source": [
    "T = 0.5"
   ]
  },
  {
   "cell_type": "code",
   "execution_count": null,
   "metadata": {
    "ExecuteTime": {
     "end_time": "2019-01-30T20:41:49.685422Z",
     "start_time": "2019-01-30T20:41:49.437246Z"
    }
   },
   "outputs": [],
   "source": [
    "thermal_state = get_thermal_state(T)\n",
    "\n",
    "energy_distribution = get_energy_distribution(thermal_state)\n",
    "hist = plt.hist(energy_distribution, density=True)"
   ]
  },
  {
   "cell_type": "markdown",
   "metadata": {},
   "source": [
    "The minimum energy eigenstate should now have a much higher probability. Try to repeat the experiment with different $\\beta$ to see the effect of the temperature on the prepared thermal state."
   ]
  },
  {
   "cell_type": "markdown",
   "metadata": {
    "collapsed": true
   },
   "source": [
    "# References\n",
    "\n",
    "[1] Verdon, G., Broughton, M., Biamonte, J. (2017) [A quantum algorithm to train neural networks using low-depth circuits](https://arxiv.org/abs/1712.05304). *arXiv:1712.05304*. <a id='1'></a>"
   ]
  }
 ],
 "metadata": {
  "kernelspec": {
   "display_name": "Python 3",
   "language": "python",
   "name": "python3"
  },
  "language_info": {
   "codemirror_mode": {
    "name": "ipython",
    "version": 2
   },
   "file_extension": ".py",
   "mimetype": "text/x-python",
   "name": "python",
   "nbconvert_exporter": "python",
   "pygments_lexer": "ipython2",
   "version": "2.7.17"
  },
  "varInspector": {
   "cols": {
    "lenName": 16,
    "lenType": 16,
    "lenVar": 40
   },
   "kernels_config": {
    "python": {
     "delete_cmd_postfix": "",
     "delete_cmd_prefix": "del ",
     "library": "var_list.py",
     "varRefreshCmd": "print(var_dic_list())"
    },
    "r": {
     "delete_cmd_postfix": ") ",
     "delete_cmd_prefix": "rm(",
     "library": "var_list.r",
     "varRefreshCmd": "cat(var_dic_list()) "
    }
   },
   "types_to_exclude": [
    "module",
    "function",
    "builtin_function_or_method",
    "instance",
    "_Feature"
   ],
   "window_display": false
  }
 },
 "nbformat": 4,
 "nbformat_minor": 2
}
