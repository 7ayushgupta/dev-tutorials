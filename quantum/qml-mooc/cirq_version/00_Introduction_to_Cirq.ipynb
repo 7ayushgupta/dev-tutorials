{
 "cells": [
  {
   "cell_type": "markdown",
   "metadata": {},
   "source": [
    "<span style=\"color:red\"><b>Please note: you do not have to understand the content of this notebook yet. The rest of the course will walk you through the details. This introduction is here in case you are undecided which framework you would like to use and to serve as a reference material for operations that we will use frequently.</b></span>"
   ]
  },
  {
   "cell_type": "markdown",
   "metadata": {},
   "source": [
    "# Getting started\n",
    "\n",
    "[Cirq](https://github.com/quantumlib/Cirq) is Google's python framework for creating, editing, and invoking Noisy Intermediate Scale Quantum (NISQ) circuits. For setting it up on your computer, please refer to the [Cirq documentation](https://cirq.readthedocs.io/en/stable/). Here we spell out the details of Cirq that are critical for the rest of the notebooks.\n",
    "\n",
    "The primary design philosophy behind Cirq is that the details of the quantum hardware can't be ignored for NISQ algorithms. Consequently, Cirq's abstractions closely mimic the underlying hardware. When declaring a qubit register, the connectivity structure must be specified. For our purposes, the most important basic elements of Cirq programs are (grid) qubits and circuits:"
   ]
  },
  {
   "cell_type": "code",
   "execution_count": null,
   "metadata": {},
   "outputs": [],
   "source": [
    "import cirq\n",
    "import numpy as np\n",
    "from cirq import GridQubit, Circuit"
   ]
  },
  {
   "cell_type": "markdown",
   "metadata": {},
   "source": [
    "Besides `GridQubit`, another possibility is `LineQubit`.\n",
    "\n",
    "Conceptually, a `Circuit` object is very closely related to the abstract quantum circuit model. The quantum circuit takes gates that operate on the quantum registers. When a measurement gate is applied, the result is identified by a key. (In addition to `Circuit`, Cirq has another representation of quantum circuits called `Schedule`, which is more closely tied to hardware and includes detailed information about the timing and duration of the gates.)\n",
    "\n",
    "Once we define our algorithm in terms of gates and measurements, we need to execute the circuit. In Cirq, the simulators make a distinction between a \"run\" and a \"simulation\". A \"run\" mimics the actual quantum hardware and does not allow access to the amplitudes of the wave function of the system. A \"simulation\" allows for operations which would not be possible on hardware, such as examining the wave function.\n",
    "\n",
    "Cirq comes with a simulator for generic gates that implements their unitary matrix, and there is also another simulator which is customized for the native gate set of Google's Xmon hardware:"
   ]
  },
  {
   "cell_type": "code",
   "execution_count": null,
   "metadata": {},
   "outputs": [],
   "source": [
    "from cirq import Simulator\n",
    "from cirq.google import XmonSimulator"
   ]
  },
  {
   "cell_type": "markdown",
   "metadata": {},
   "source": [
    "# Backends\n",
    "\n",
    "The most straightforward simulator backend does exactly what we would expect: it runs a quantum algorithm and writes the measurement results out classically. After running a circuit a few times on the simulator, we can inspect the statistics of the results. For simplicity, we'll use the `Simulator` class:"
   ]
  },
  {
   "cell_type": "code",
   "execution_count": null,
   "metadata": {},
   "outputs": [],
   "source": [
    "simulator = Simulator()"
   ]
  },
  {
   "cell_type": "markdown",
   "metadata": {},
   "source": [
    "Let us build the simplest possible circuit that has no gates and only a measurement on a single qubit, writing out the result classically to the key `m`:"
   ]
  },
  {
   "cell_type": "code",
   "execution_count": null,
   "metadata": {},
   "outputs": [],
   "source": [
    "q = GridQubit(0,0)\n",
    "circuit = Circuit.from_ops(\n",
    "    cirq.measure(q, key='m')\n",
    ")"
   ]
  },
  {
   "cell_type": "markdown",
   "metadata": {},
   "source": [
    "We execute this circuit on the simulator and observe the statistics:"
   ]
  },
  {
   "cell_type": "code",
   "execution_count": null,
   "metadata": {},
   "outputs": [],
   "source": [
    "result = simulator.run(circuit, repetitions=100)\n",
    "print(result.histogram(key='m'))"
   ]
  },
  {
   "cell_type": "markdown",
   "metadata": {},
   "source": [
    "Remember that the qubit registers are always initialized as $|0\\rangle$. Not surprisingly, out of a hundred executions, we measure `0` a hundred times. If you executed this on hardware, your measurement outcomes might be sometimes `1`  -- that would be due to noise.\n",
    "\n",
    "If `run` was the only way to perform a simulation, we would have a hard time debugging our quantum algorithms. Why? As we don't have access to the quantum state using `run`, we would have to reconstruct the quantum state based on the measurements we make, which is not a trivial task in general. True, this is the only option we have on the actual hardware, but in a simulator, we have one more possibility: we could actually inspect the simulated quantum state (the wavefunction). Cirq provides a way to do this using the `simulate` method.\n",
    "\n",
    "In this case, we do not have to add measurements, unless the protocol we are implementing uses a measurement in its internal operation. So we can build a circuit without a measurement and inspect the quantum state directly. In Cirq, it isn't possible to have an empty circuit."
   ]
  },
  {
   "cell_type": "code",
   "execution_count": null,
   "metadata": {},
   "outputs": [],
   "source": [
    "circuit = Circuit.from_ops(\n",
    "    cirq.SingleQubitMatrixGate(np.array([[1, 0], [0, 1]])).on(q)\n",
    ")\n",
    "result = simulator.simulate(circuit)\n",
    "print(result.final_state)"
   ]
  },
  {
   "cell_type": "markdown",
   "metadata": {},
   "source": [
    "So in this case, we see it is the $|0\\rangle$ state, as opposed to observing just the measurement statistics. This is especially important because the type of measurements we can perform are extremely restricted: technically speaking, we always measure in the computational basis. This means that, for instance, the states $|1\\rangle$ and $-|1\\rangle$ are indistinguishable based on the measurement statistics."
   ]
  },
  {
   "cell_type": "markdown",
   "metadata": {},
   "source": [
    "# Visualization"
   ]
  },
  {
   "cell_type": "markdown",
   "metadata": {},
   "source": [
    "There are three handy ways of visualizing what we are doing. The first one is drawing the circuit. Cirq has built-in functionality to convert a circuit into a text diagram:"
   ]
  },
  {
   "cell_type": "code",
   "execution_count": null,
   "metadata": {},
   "outputs": [],
   "source": [
    "q = GridQubit(0,0)\n",
    "circuit = Circuit.from_ops(\n",
    "    cirq.measure(q, key='m')\n",
    ")\n",
    "print(circuit.to_text_diagram())"
   ]
  },
  {
   "cell_type": "markdown",
   "metadata": {},
   "source": [
    "This gives a quick sanity check to see whether we correctly implemented some circuit.\n",
    "\n",
    "Cirq can also generate a LaTeX circuit diagram using the qcircuit package. This makes it easy to create our own function to plot the circuit graphically. This and the following helper functions will be included in `cirq_tools.py`, so we can just import it later."
   ]
  },
  {
   "cell_type": "code",
   "execution_count": null,
   "metadata": {},
   "outputs": [],
   "source": [
    "from cirq.contrib.qcircuit.qcircuit_diagram import circuit_to_latex_using_qcircuit\n",
    "from pylatex import Document, NoEscape, Package\n",
    "from tempfile import mkdtemp\n",
    "import matplotlib.pyplot as plt\n",
    "import shutil\n",
    "import subprocess\n",
    "%matplotlib inline\n",
    "\n",
    "def plot_circuit(circuit):\n",
    "    tex = circuit_to_latex_using_qcircuit(circuit)\n",
    "    doc = Document(documentclass='standalone',\n",
    "                   document_options=NoEscape('border=25pt,convert={density=300,outext=.png}'))\n",
    "    doc.packages.append(Package('amsmath'))\n",
    "    doc.packages.append(Package('qcircuit'))\n",
    "    doc.append(NoEscape(tex))\n",
    "    tmp_folder = mkdtemp()\n",
    "    doc.generate_tex(tmp_folder + '/circuit')\n",
    "    proc = subprocess.Popen(['pdflatex', '-shell-escape', tmp_folder + '/circuit.tex'], cwd=tmp_folder)\n",
    "    proc.communicate()\n",
    "    image = plt.imread(tmp_folder + '/circuit.png')\n",
    "    shutil.rmtree(tmp_folder)\n",
    "    plt.axis('off')\n",
    "    return plt.imshow(image)\n",
    "\n",
    "plot_circuit(circuit)"
   ]
  },
  {
   "cell_type": "markdown",
   "metadata": {},
   "source": [
    "The second helper function shows the operation on the Bloch sphere, which is especially important for understanding how rotations happen. We borrowed this function from [this tutorial](https://github.com/markf94/rigetti_training_material) and it requires QuTiP. This visualization method relies on the wavefunction simulator."
   ]
  },
  {
   "cell_type": "code",
   "execution_count": null,
   "metadata": {},
   "outputs": [],
   "source": [
    "import cmath\n",
    "from qutip import Bloch\n",
    "\n",
    "def get_vector(alpha, beta):\n",
    "    \"\"\"\n",
    "    Function to compute 3D Cartesian coordinates\n",
    "    from 2D qubit vector.\n",
    "    \"\"\"\n",
    "\n",
    "    # get phases\n",
    "    angle_alpha = cmath.phase(alpha)\n",
    "    angle_beta = cmath.phase(beta)\n",
    "\n",
    "    # avoiding wrong normalization due to rounding errors\n",
    "    if cmath.isclose(angle_alpha, cmath.pi):\n",
    "        angle_alpha = 0\n",
    "    if cmath.isclose(angle_beta, cmath.pi):\n",
    "        angle_beta = 0\n",
    "        \n",
    "    if (angle_beta < 0 and angle_alpha < angle_beta) or (angle_beta > 0 and angle_alpha > angle_beta):\n",
    "            denominator = cmath.exp(1j*angle_beta)\n",
    "    else:\n",
    "            denominator = cmath.exp(1j*angle_alpha)\n",
    "\n",
    "    # eliminate global phase\n",
    "    alpha_new = alpha/denominator\n",
    "    beta_new = beta/denominator\n",
    "\n",
    "    # special case to avoid division by zero\n",
    "    if abs(alpha) == 0 or abs(beta) == 0:\n",
    "        if alpha == 0:\n",
    "            return [0,0,-1]\n",
    "        else:\n",
    "            return [0,0,1]\n",
    "    else:\n",
    "        # compute theta and phi from alpha and beta\n",
    "        theta = 2*cmath.acos(alpha_new)\n",
    "        phi = -1j*cmath.log(beta_new/cmath.sin(theta/2))\n",
    "\n",
    "        # compute the Cartesian coordinates\n",
    "        x = cmath.sin(theta)*cmath.cos(phi)\n",
    "        y = cmath.sin(theta)*cmath.sin(phi)\n",
    "        z = cmath.cos(theta)\n",
    "\n",
    "    return [x.real, y.real, z.real]\n",
    "\n",
    "def plot_quantum_state(amplitudes):\n",
    "    \"\"\"\n",
    "    Thin function to abstract the plotting on the Bloch sphere.\n",
    "    \"\"\"\n",
    "    bloch_sphere = Bloch()\n",
    "    vec = get_vector(amplitudes[0], amplitudes[1])\n",
    "    bloch_sphere.add_vectors(vec)\n",
    "    bloch_sphere.show()\n",
    "    bloch_sphere.clear()"
   ]
  },
  {
   "cell_type": "markdown",
   "metadata": {},
   "source": [
    " For instance, let's compare the initial state $|0\\rangle$ and the Hadamard gate applied to it:"
   ]
  },
  {
   "cell_type": "code",
   "execution_count": null,
   "metadata": {},
   "outputs": [],
   "source": [
    "circuit = Circuit.from_ops(\n",
    "    cirq.measure(q, key='m')\n",
    ")\n",
    "result = simulator.simulate(circuit)\n",
    "plot_quantum_state(result.final_state)"
   ]
  },
  {
   "cell_type": "markdown",
   "metadata": {},
   "source": [
    "After the Hadamard gate:"
   ]
  },
  {
   "cell_type": "code",
   "execution_count": null,
   "metadata": {},
   "outputs": [],
   "source": [
    "circuit = Circuit.from_ops(\n",
    "    cirq.H(q),\n",
    "    cirq.measure(q, key='m')\n",
    ")\n",
    "result = simulator.simulate(circuit)\n",
    "print(\"After a Hadamard gate\")\n",
    "plot_quantum_state(result.final_state)"
   ]
  },
  {
   "cell_type": "markdown",
   "metadata": {},
   "source": [
    "The third way of visualizing what happens is plotting the statistics of measurement results. Arguably, this is the most important for practical applications and debugging. We define a function for this:"
   ]
  },
  {
   "cell_type": "code",
   "execution_count": null,
   "metadata": {},
   "outputs": [],
   "source": [
    "import matplotlib.pyplot as plt\n",
    "\n",
    "def plot_histogram(counts):\n",
    "    x = np.arange(len(counts))\n",
    "    plt.bar(x, counts.values())\n",
    "    plt.xticks(x, counts.keys())\n",
    "    plt.show()"
   ]
  },
  {
   "cell_type": "markdown",
   "metadata": {},
   "source": [
    "Here are the statistics before the Hadamard gate:"
   ]
  },
  {
   "cell_type": "code",
   "execution_count": null,
   "metadata": {},
   "outputs": [],
   "source": [
    "circuit = Circuit.from_ops(\n",
    "    cirq.measure(q, key='m')\n",
    ")\n",
    "results = simulator.run(circuit, repetitions=1000)\n",
    "plot_histogram(results.histogram(key='m'))"
   ]
  },
  {
   "cell_type": "markdown",
   "metadata": {},
   "source": [
    "After the Hadamard gate:"
   ]
  },
  {
   "cell_type": "code",
   "execution_count": null,
   "metadata": {},
   "outputs": [],
   "source": [
    "circuit = Circuit.from_ops(\n",
    "    cirq.H(q),\n",
    "    cirq.measure(q, key='m')\n",
    ")\n",
    "results = simulator.run(circuit, repetitions=1000)\n",
    "plot_histogram(results.histogram(key='m'))"
   ]
  },
  {
   "cell_type": "markdown",
   "metadata": {},
   "source": [
    "As we can see, the 'perfect' nature of the simulator is reflected again in getting all 0s for the initial state, and a distribution very close to uniform after applying the Hadamard gate. In a longer circuit on real quantum hardware, these statistics would be heavily affected by noise."
   ]
  }
 ],
 "metadata": {
  "kernelspec": {
   "display_name": "Python 3",
   "language": "python",
   "name": "python3"
  },
  "language_info": {
   "codemirror_mode": {
    "name": "ipython",
    "version": 3
   },
   "file_extension": ".py",
   "mimetype": "text/x-python",
   "name": "python",
   "nbconvert_exporter": "python",
   "pygments_lexer": "ipython3",
   "version": "3.6.5"
  },
  "varInspector": {
   "cols": {
    "lenName": 16,
    "lenType": 16,
    "lenVar": 40
   },
   "kernels_config": {
    "python": {
     "delete_cmd_postfix": "",
     "delete_cmd_prefix": "del ",
     "library": "var_list.py",
     "varRefreshCmd": "print(var_dic_list())"
    },
    "r": {
     "delete_cmd_postfix": ") ",
     "delete_cmd_prefix": "rm(",
     "library": "var_list.r",
     "varRefreshCmd": "cat(var_dic_list()) "
    }
   },
   "types_to_exclude": [
    "module",
    "function",
    "builtin_function_or_method",
    "instance",
    "_Feature"
   ],
   "window_display": false
  }
 },
 "nbformat": 4,
 "nbformat_minor": 2
}
