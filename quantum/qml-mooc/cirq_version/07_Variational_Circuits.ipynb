{
 "cells": [
  {
   "cell_type": "markdown",
   "metadata": {},
   "source": [
    "Current and near-term quantum computers suffer from imperfections, as we repeatedly pointed it out. This is why we cannot run long algorithms, that is, deep circuits on them. A new breed of algorithms started to appear since 2013 that focus on getting an advantage from imperfect quantum computers. The basic idea is extremely simple: run a short sequence of gates where some gates are parametrized. Then read out the result, make adjustments to the parameters on a classical computer, and repeat the calculation with the new parameters on the quantum hardware. This way we create an iterative loop between the quantum and the classical processing units, creating classical-quantum hybrid algorithms.\n",
    "\n",
    "<img src=\"../figures/hybrid_classical_quantum.svg\" alt=\"Hybrid classical-quantum paradigm\" style=\"width: 400px;\"/>\n",
    "\n",
    "These algorithms are also called variational to reflect the variational approach to changing the parameters. One of the most important example of this approach is the quantum approximate optimization algorithm, which is the subject of this notebook."
   ]
  },
  {
   "cell_type": "markdown",
   "metadata": {},
   "source": [
    "# Quantum approximate optimization algorithm\n",
    "\n",
    "The quantum approximate optimization algorithm (QAOA) is a shallow-circuit variational algorithm for gate-model quantum computers that was inspired by quantum annealing. We discretize the adiabatic pathway in some $p$ steps, where $p$ influences precision. Each discrete time step $i$ has two parameters, $\\beta_i, \\gamma_i$. The classical variational algorithms does an optimization over these parameters based on the observed energy at the end of a run on the quantum hardware.\n",
    "\n",
    "More formally, we want to discretize the time-dependent $H(t)=(1-t)H_0 + tH_1$ under adiabatic conditions. We achieve this by Trotterizing the unitary. For instance, for time step $t_0$, we can split this unitary as $U(t_0) = U(H_0, \\beta_0)U(H_1, \\gamma_0)$. We can continue doing this for subsequent time steps, eventually splitting up the evolution to $p$ such chunks:\n",
    "\n",
    "$$\n",
    "U = U(H_0, \\beta_0)U(H_1, \\gamma_0)\\ldots U(H_0, \\beta_p)U(H_1, \\gamma_p).\n",
    "$$\n",
    "\n",
    "At the end of optimizing the parameters, this discretized evolution will approximate the adiabatic pathway:\n",
    "\n",
    "<img src=\"../figures/qaoa_process.svg\" alt=\"Quantum approximate optimization algorithm\" style=\"width: 400px;\"/>\n",
    "\n",
    "The Hamiltonian $H_0$ is often referred to as the driving or mixing Hamiltonian, and $H_1$ as the cost Hamiltonian. The simplest mixing Hamiltonian is $H_0 = -\\sum_i \\sigma^X_i$, the same as the initial Hamiltonian in quantum annealing. By alternating between the two Hamiltonian, the mixing Hamiltonian drives the state towards an equal superposition, whereas the cost Hamiltonian tries to seek its own ground state.\n",
    "\n",
    "Let us import the necessary packages first:"
   ]
  },
  {
   "cell_type": "code",
   "execution_count": null,
   "metadata": {
    "ExecuteTime": {
     "end_time": "2018-11-19T20:09:25.405530Z",
     "start_time": "2018-11-19T20:09:25.393410Z"
    }
   },
   "outputs": [],
   "source": [
    "import cirq\n",
    "from cirq_tools import *\n",
    "import numpy as np\n",
    "from scipy.optimize import minimize\n",
    "np.set_printoptions(precision=3, suppress=True)"
   ]
  },
  {
   "cell_type": "markdown",
   "metadata": {},
   "source": [
    " Now we can define our mixing Hamiltonian on some qubits. As in the notebook on classical and quantum many-body physics, we had to define, for instance, an `IZ` operator to express $\\mathbb{I}\\otimes\\sigma_1^Z$, that is, the $\\sigma_1^Z$ operator acting only on qubit 1. We can achieve the same effect in the following way (this time using the Pauli-X operator):"
   ]
  },
  {
   "cell_type": "markdown",
   "metadata": {},
   "source": [
    "In Cirq, Pauli operators $\\sigma^X$ are expressed with the objects `cirq.X`. Suppose that you have multiple qubits `q1`,`q2`,..., you can apply $\\sigma^X$ to `q1` as `cirq.X(q1)`. This is equivalent to the `IX` operator."
   ]
  },
  {
   "cell_type": "markdown",
   "metadata": {},
   "source": [
    "# Mixing Hamiltonian\n",
    "The next step is to define the unitary operator\n",
    "$$\n",
    "U(\\beta,H_0) = e^{-i\\pi\\beta H_0/2},~~~ H_0 = \\sum_{j=1}^n X_j,\n",
    "$$\n",
    "where $\\beta$ is the variational parameter. Since the Pauli-$X$ operators on each qubit commute with each other, we can alternatively write this as\n",
    "$$\n",
    "U(\\beta, H_0) = \\prod_{j=1}^n e^{-i\\pi\\beta X_j/2}.\n",
    "$$\n",
    "\n",
    "So this is just a rotation of each qubit around the $X$-axis on the Bloch sphere by an amount determined by $\\beta$. This operation is _not_ diagonal in the computational basis, and the resulting state will not be an equal superposition over all bitstrings. So after this step there will be constructive and destructive interference, which hopefully leads to enhancement of states corresponding to small values of $H_1$. Note that, up to an inconsequential global phase, we can also write\n",
    "$$\n",
    "U(\\beta, H_0) = \\prod_{j=1}^n X_j^{-\\beta}.\n",
    "$$\n",
    "\n",
    "This dramatically simplifies the function to create a cirquit operator for $U(\\beta, H_0)$. For example, if you have two qubits (a, b), the function `beta_layer` takes a variational parameter and qubits, and return the corresponding operator."
   ]
  },
  {
   "cell_type": "code",
   "execution_count": null,
   "metadata": {},
   "outputs": [],
   "source": [
    "def beta_layer(beta, a, b):\n",
    "    yield (cirq.X**(-beta)).on_each([a, b])"
   ]
  },
  {
   "cell_type": "markdown",
   "metadata": {},
   "source": [
    "You can use this function to create a circuit."
   ]
  },
  {
   "cell_type": "code",
   "execution_count": null,
   "metadata": {
    "ExecuteTime": {
     "end_time": "2018-11-19T20:08:17.863004Z",
     "start_time": "2018-11-19T20:08:17.843293Z"
    }
   },
   "outputs": [],
   "source": [
    "a = cirq.NamedQubit(\"a\")\n",
    "b = cirq.NamedQubit(\"b\")\n",
    "circuit = cirq.Circuit()\n",
    "circuit.append(beta_layer(0.1, a, b))\n",
    "plot_circuit(circuit)"
   ]
  },
  {
   "cell_type": "markdown",
   "metadata": {},
   "source": [
    "# Cost Hamiltonian\n",
    "The next step is to define the unitary operator\n",
    "$$\n",
    "U(\\gamma,H_1) = e^{-i\\pi\\gamma H_1/2}\n",
    "$$\n",
    "\n",
    "where $\\gamma$ is the variational parameter. As an example, we will minimize the Ising problem defined by the cost Hamiltonian $H_1=-\\sigma^Z_1 \\otimes \\sigma^Z_2$, whose minimum is reached whenever $\\sigma^Z_1 = \\sigma^Z_2$ (for the states $|-1, -1\\rangle$, $|11\\rangle$ or any superposition of both). In this case, by ajusting the definition of $\\gamma$, we have\n",
    "$$\n",
    "U(\\gamma, H_1) = e^{-i\\pi\\gamma Z_1Z_2}.\n",
    "$$"
   ]
  },
  {
   "cell_type": "markdown",
   "metadata": {},
   "source": [
    "We can create custom gates for unitary operators with Cirq. When making a custom gate, we can specify its action in a variety of ways. We'll illustrate it for the $ZZ$ gate:\n",
    "$$\n",
    "\\begin{align}\n",
    "\\exp(-i \\pi\\gamma Z\\otimes Z) = \\begin{bmatrix}\n",
    "e^{-i\\pi\\gamma} & 0 & 0 & 0 \\\\\n",
    "0 & e^{i\\pi\\gamma} & 0 & 0 \\\\\n",
    "0 & 0 & e^{i\\pi\\gamma} & 0 \\\\\n",
    "0 & 0 & 0 & e^{-i\\pi\\gamma}\n",
    "\\end{bmatrix}\n",
    "\\end{align}\n",
    "$$\n",
    "\n",
    "One option is to specify a decomposition of your gate into gates that Cirq already knows about. First, the $ZZ$ gate can be decomosed into the four gates.\n",
    "$$\n",
    "\\begin{align}\n",
    "\\exp(-i \\pi\\gamma Z\\otimes Z) = \n",
    "\\begin{bmatrix}\n",
    "1 & 0 & 0 & 0 \\\\\n",
    "0 & 1 & 0 & 0 \\\\\n",
    "0 & 0 & 1 &0 \\\\\n",
    "0 & 0 & 0 & e^{-i\\pi\\gamma}\n",
    "\\end{bmatrix}\n",
    "\\begin{bmatrix}\n",
    "1 & 0 & 0 & 0 \\\\\n",
    "0 & 1 & 0 & 0 \\\\\n",
    "0 & 0 & e^{i\\pi\\gamma} & 0 \\\\\n",
    "0 & 0 & 0 & 1\n",
    "\\end{bmatrix}\n",
    "\\begin{bmatrix}\n",
    "1 & 0 & 0 & 0 \\\\\n",
    "0 & e^{i\\pi\\gamma} & 0 & 0 \\\\\n",
    "0 & 0 & 1 & 0 \\\\\n",
    "0 & 0 & 0 & 1\n",
    "\\end{bmatrix}\n",
    "\\begin{bmatrix}\n",
    "e^{-i\\pi\\gamma} & 0 & 0 & 0 \\\\\n",
    "0 & 1 & 0 & 0 \\\\\n",
    "0 & 0 & 1 & 0 \\\\\n",
    "0 & 0 & 0 & 1\n",
    "\\end{bmatrix}\n",
    "\\end{align}\n",
    "$$"
   ]
  },
  {
   "cell_type": "markdown",
   "metadata": {},
   "source": [
    "For the first part, we can write it as a power of the $CZ$ gate (Controlled-$Z$):\n",
    "$$\n",
    "\\begin{align}\n",
    "\\begin{bmatrix}\n",
    "1 & 0 & 0 & 0 \\\\\n",
    "0 & 1 & 0 & 0 \\\\\n",
    "0 & 0 & 1 & 0 \\\\\n",
    "0 & 0 & 0 & e^{-i\\pi\\gamma}\n",
    "\\end{bmatrix}\n",
    "= \n",
    "\\begin{bmatrix}\n",
    "1 & 0 & 0 & 0 \\\\\n",
    "0 & 1 & 0 & 0 \\\\\n",
    "0 & 0 & 1 & 0 \\\\\n",
    "0 & 0 & 0 & (e^{i\\pi})^{-\\gamma}\n",
    "\\end{bmatrix}\n",
    "= CZ^{-\\gamma}\n",
    "\\end{align}\n",
    "$$\n",
    "\n",
    "For the second part, we can move the phase around by conjugating by $X$ gates. For example,\n",
    "$$\n",
    "\\begin{align}\n",
    "\\begin{bmatrix}\n",
    "1 & 0 & 0 & 0 \\\\\n",
    "0 & 1 & 0 & 0 \\\\\n",
    "0 & 0 & e^{i\\pi\\gamma} & 0 \\\\\n",
    "0 & 0 & 0 & 1\n",
    "\\end{bmatrix}\n",
    "=\n",
    "(I\\otimes X)\\begin{bmatrix}\n",
    "1 & 0 & 0 & 0\\\\\n",
    "0 & 1 & 0 & 0\\\\\n",
    "0 & 0 & 1 & 0 \\\\\n",
    "0 & 0 & 0 & e^{i\\pi\\gamma}\n",
    "\\end{bmatrix}\n",
    "(I\\otimes X)\n",
    "=(I\\otimes X)\\cdot CZ^{\\gamma}\\cdot (I\\otimes X)\n",
    "\\end{align}\n",
    "$$\n",
    "\n",
    "By applying the same technique, we have:\n",
    "$$\n",
    "\\begin{align}\n",
    "\\begin{bmatrix}\n",
    "1 & 0 & 0 & 0 \\\\\n",
    "0 & e^{-i\\pi\\gamma} & 0 & 0 \\\\\n",
    "0 & 0 & 1 & 0 \\\\\n",
    "0 & 0 & 0 & 1\n",
    "\\end{bmatrix}\n",
    "=(X\\otimes I)\\cdot CZ^{\\gamma}\\cdot (X\\otimes I)\n",
    "\\end{align}\n",
    "$$\n",
    "\n",
    "$$\n",
    "\\begin{align}\n",
    "\\begin{bmatrix}\n",
    "e^{i\\pi\\gamma} & 0 & 0 & 0\\\\\n",
    "0 & 1 & 0 & 0 \\\\\n",
    "0 & 0 & 1 & 0 \\\\\n",
    "0 & 0 & 0 & 1\n",
    "\\end{bmatrix}\n",
    "=\n",
    "(X\\otimes X)\\cdot CZ^{-\\gamma}\\cdot\n",
    "(X\\otimes X)\n",
    "\\end{align}\n",
    "$$"
   ]
  },
  {
   "cell_type": "markdown",
   "metadata": {},
   "source": [
    "By combining these results, we can decompose the $ZZ$ gate into the basic gates in Cirq.\n",
    "\n",
    "$$\n",
    "\\begin{align}\n",
    "\\exp(-i \\pi\\gamma Z\\otimes Z) = CZ^{-\\gamma}\\cdot\n",
    "(I\\otimes X)CZ^{\\gamma}(I\\otimes X)\\cdot\n",
    "(X\\otimes I)CZ^{\\gamma}(X\\otimes I)\\cdot\n",
    "(X\\otimes X)CZ^{-\\gamma}(X\\otimes X)\n",
    "\\end{align}\n",
    "$$\n",
    "$$\n",
    "\\begin{align}\n",
    "= CZ^{-\\gamma}\n",
    "(I\\otimes X)CZ^{\\gamma}(X\\otimes X)\n",
    "CZ^{\\gamma}(I\\otimes X)CZ^{-\\gamma}(X\\otimes X)\n",
    "\\end{align}\n",
    "$$\n",
    "\n",
    "We can use this expression to define the custom $ZZ$ gate."
   ]
  },
  {
   "cell_type": "code",
   "execution_count": null,
   "metadata": {},
   "outputs": [],
   "source": [
    "class ZZGate(cirq.ops.gate_features.TwoQubitGate):\n",
    "    def __init__(self, gamma):\n",
    "        self.gamma = gamma\n",
    "    \n",
    "    def _decompose_(self, qubits):\n",
    "        a, b = qubits\n",
    "        yield cirq.CZ(a, b)**(-self.gamma),\n",
    "        yield cirq.X(b),\n",
    "        yield cirq.CZ(a, b)**self.gamma,\n",
    "        yield cirq.X.on_each([a, b]),\n",
    "        yield cirq.CZ(a, b)**self.gamma,\n",
    "        yield cirq.X(b),\n",
    "        yield cirq.CZ(a, b)**(-self.gamma)\n",
    "        yield cirq.X.on_each([a, b]),\n",
    "\n",
    "    # How should the gate look in ASCII diagrams?\n",
    "    def _circuit_diagram_info_(self, args):\n",
    "        return cirq.protocols.CircuitDiagramInfo(\n",
    "            wire_symbols=('Z', 'Z'),\n",
    "            exponent=self.gamma)"
   ]
  },
  {
   "cell_type": "markdown",
   "metadata": {},
   "source": [
    "For example, if you have two qubits (a, b), the function `gamma_layer` takes a variational parameter and qubits, and return the corresponding operator."
   ]
  },
  {
   "cell_type": "code",
   "execution_count": null,
   "metadata": {
    "ExecuteTime": {
     "end_time": "2018-11-19T20:08:17.885938Z",
     "start_time": "2018-11-19T20:08:17.865184Z"
    }
   },
   "outputs": [],
   "source": [
    "def gamma_layer(gamma, a, b):\n",
    "    yield ZZGate(gamma).on(a, b)\n",
    "\n",
    "circuit = cirq.Circuit()\n",
    "circuit.append(gamma_layer(0.1, a, b))\n",
    "circuit"
   ]
  },
  {
   "cell_type": "markdown",
   "metadata": {},
   "source": [
    "We can check that the matrix expression of this operator is what we expeced."
   ]
  },
  {
   "cell_type": "code",
   "execution_count": null,
   "metadata": {
    "ExecuteTime": {
     "end_time": "2018-11-19T20:08:17.925805Z",
     "start_time": "2018-11-19T20:08:17.905037Z"
    }
   },
   "outputs": [],
   "source": [
    "print (circuit.to_unitary_matrix().round(5))\n",
    "\n",
    "gamma = 0.1\n",
    "test_matrix = np.array([[np.exp(-1j*np.pi*gamma),0, 0, 0],\n",
    "                        [0, np.exp(1j*np.pi*gamma), 0, 0],\n",
    "                        [0, 0, np.exp(1j*np.pi*gamma), 0],\n",
    "                        [0, 0, 0, np.exp(-1j*np.pi*gamma)]])\n",
    "print (\"\\n\")\n",
    "print (test_matrix.round(5))"
   ]
  },
  {
   "cell_type": "markdown",
   "metadata": {},
   "source": [
    "The function `create_cirquit` composes the unitary operators to create a quantum circuite to approximate the adiabatic pathway. The initial state is a uniform superposition of all the states. It can be created using Hadamard gates on all the qubits."
   ]
  },
  {
   "cell_type": "code",
   "execution_count": null,
   "metadata": {},
   "outputs": [],
   "source": [
    "def create_cirquit(betas, gammas):\n",
    "    circuit = cirq.Circuit()\n",
    "    circuit.append(cirq.H.on_each([a, b]))\n",
    "    for beta, gamma in zip(betas, gammas):\n",
    "        circuit.append(beta_layer(beta, a, b))\n",
    "        circuit.append(gamma_layer(gamma, a, b))\n",
    "    return circuit"
   ]
  },
  {
   "cell_type": "markdown",
   "metadata": {},
   "source": [
    "For example, we can create a circuite with 4 steps with random parameters. "
   ]
  },
  {
   "cell_type": "code",
   "execution_count": null,
   "metadata": {
    "ExecuteTime": {
     "end_time": "2018-11-19T20:08:18.058128Z",
     "start_time": "2018-11-19T20:08:18.050635Z"
    }
   },
   "outputs": [],
   "source": [
    "p = 4\n",
    "betas = np.random.uniform(0, np.pi*2, p)\n",
    "gammas = np.random.uniform(0, np.pi*2, p)\n",
    "circuit = create_cirquit(betas, gammas)\n",
    "circuit"
   ]
  },
  {
   "cell_type": "markdown",
   "metadata": {},
   "source": [
    "To apply the optimizaion for variational parameters, we define two auxiliary functions. The function `energy_from_params` simulate the cirquit operation with given parameters, and return the expectation value of cost Hamiltonian for the resulting qubits state. `evaluate_circuit` is a wrapper function that the optimizer in SciPy can consume."
   ]
  },
  {
   "cell_type": "code",
   "execution_count": null,
   "metadata": {
    "ExecuteTime": {
     "end_time": "2018-11-19T20:08:18.075525Z",
     "start_time": "2018-11-19T20:08:18.059933Z"
    }
   },
   "outputs": [],
   "source": [
    "def energy_from_params(betas, gammas):\n",
    "    sim = cirq.Simulator()\n",
    "    circuit = create_cirquit(betas, gammas)\n",
    "    wf = sim.simulate(circuit).final_state\n",
    "    return -np.sum(np.abs(wf)**2 * np.array([1, -1, -1, 1])) \n",
    "\n",
    "def evaluate_circuit(beta_gamma):\n",
    "    betas = beta_gamma[:p]\n",
    "    gammas = beta_gamma[p:]\n",
    "    return energy_from_params(betas, gammas)"
   ]
  },
  {
   "cell_type": "markdown",
   "metadata": {},
   "source": [
    "Finally, we optimize the angles:"
   ]
  },
  {
   "cell_type": "code",
   "execution_count": null,
   "metadata": {
    "ExecuteTime": {
     "end_time": "2018-11-19T20:08:37.699288Z",
     "start_time": "2018-11-19T20:08:18.119570Z"
    }
   },
   "outputs": [],
   "source": [
    "result = minimize(evaluate_circuit,\n",
    "                  np.concatenate([betas, gammas]),\n",
    "                  method='L-BFGS-B', options={'eps': 0.0001})\n",
    "result"
   ]
  },
  {
   "cell_type": "markdown",
   "metadata": {},
   "source": [
    "# Analysis of the results\n",
    "\n",
    "We create a circuit using the optimal parameters found."
   ]
  },
  {
   "cell_type": "code",
   "execution_count": null,
   "metadata": {
    "ExecuteTime": {
     "end_time": "2018-11-19T20:08:37.795769Z",
     "start_time": "2018-11-19T20:08:37.701647Z"
    }
   },
   "outputs": [],
   "source": [
    "betas = result['x'][:p]\n",
    "gammas = result['x'][p:]\n",
    "circuit = create_cirquit(betas, gammas)"
   ]
  },
  {
   "cell_type": "markdown",
   "metadata": {},
   "source": [
    "We use the Cirq's simulator in order to display the state created by the circuit."
   ]
  },
  {
   "cell_type": "code",
   "execution_count": null,
   "metadata": {
    "ExecuteTime": {
     "end_time": "2018-11-19T20:08:38.175963Z",
     "start_time": "2018-11-19T20:08:37.797375Z"
    }
   },
   "outputs": [],
   "source": [
    "wf = cirq.Simulator().simulate(circuit).final_state\n",
    "wf"
   ]
  },
  {
   "cell_type": "markdown",
   "metadata": {},
   "source": [
    "We see that the state is approximately $e^{i \\theta} \\frac{1}{\\sqrt{2}} \\left( |00 \\rangle + |11 \\rangle \\right)$, where $\\theta$ is a phase factor that doesn't change the probabilities. It corresponds to a uniform superposition of the two solutions of the classicial problem: $(\\sigma_1=1$, $\\sigma_2=1)$ and $(\\sigma_1=-1$, $\\sigma_2=-1)$"
   ]
  },
  {
   "cell_type": "markdown",
   "metadata": {},
   "source": [
    "Let's now try to evaluate the operators $\\sigma^Z_1$ and $\\sigma^Z_2$ independently:"
   ]
  },
  {
   "cell_type": "code",
   "execution_count": null,
   "metadata": {
    "ExecuteTime": {
     "end_time": "2018-11-19T20:08:38.181888Z",
     "start_time": "2018-11-19T20:08:38.178242Z"
    }
   },
   "outputs": [],
   "source": [
    "print(np.sum(np.abs(wf)**2 * np.array([1, 1, -1, -1])))\n",
    "print(np.sum(np.abs(wf)**2 * np.array([1, -1, 1, -1])))"
   ]
  },
  {
   "cell_type": "markdown",
   "metadata": {},
   "source": [
    "We see that both are approximatively equal to zero. It's expected given the state we found above and corresponds a typical quantum behavior where $\\mathbb{E}[\\sigma^Z_1 \\sigma^Z_2] \\neq \\mathbb{E}[\\sigma^Z_1] \\mathbb{E}[\\sigma^Z_2]$"
   ]
  }
 ],
 "metadata": {
  "kernelspec": {
   "display_name": "Python 2",
   "language": "python",
   "name": "python2"
  },
  "language_info": {
   "codemirror_mode": {
    "name": "ipython",
    "version": 2
   },
   "file_extension": ".py",
   "mimetype": "text/x-python",
   "name": "python",
   "nbconvert_exporter": "python",
   "pygments_lexer": "ipython2",
   "version": "2.7.13"
  }
 },
 "nbformat": 4,
 "nbformat_minor": 2
}
