{
 "cells": [
  {
   "cell_type": "code",
   "execution_count": 1,
   "id": "40507cc5-9a99-475b-aa77-203a4aa517c6",
   "metadata": {},
   "outputs": [],
   "source": [
    "import requests\n",
    "import fastf1\n",
    "CACHE_DIR = './cache'\n",
    "fastf1.Cache.enable_cache(CACHE_DIR)  # replace with your cache directory"
   ]
  },
  {
   "cell_type": "code",
   "execution_count": 2,
   "id": "0426ce6f-60d7-4919-8caf-72b53f0d8455",
   "metadata": {},
   "outputs": [],
   "source": [
    "def get_drivers_standings():\n",
    "    url = \"https://ergast.com/api/f1/current/driverStandings.json\"\n",
    "    response = requests.get(url)\n",
    "    data = response.json()\n",
    "    drivers_standings = data['MRData']['StandingsTable']['StandingsLists'][0]['DriverStandings']  # noqa: E501\n",
    "    return drivers_standings"
   ]
  },
  {
   "cell_type": "code",
   "execution_count": 3,
   "id": "133cda0f-636c-4835-ae21-8a43bd4686fc",
   "metadata": {},
   "outputs": [],
   "source": [
    "def calculate_max_points_for_remaining_season():\n",
    "    POINTS_FOR_SPRINT = 8 + 25 + 1  # Winning the sprint, race and fastest lap\n",
    "    POINTS_FOR_CONVENTIONAL = 25 + 1  # Winning the race and fastest lap\n",
    "\n",
    "    events = fastf1.events.get_events_remaining()\n",
    "    # Count how many sprints and conventional races are left\n",
    "    sprint_events = \\\n",
    "        len(events.loc[events[\"EventFormat\"] == \"sprint\"])\n",
    "    conventional_events = \\\n",
    "        len(events.loc[events[\"EventFormat\"] == \"conventional\"])\n",
    "\n",
    "    # Calculate points for each\n",
    "    sprint_points = sprint_events * POINTS_FOR_SPRINT\n",
    "    conventional_points = conventional_events * POINTS_FOR_CONVENTIONAL\n",
    "\n",
    "    return sprint_points + conventional_points\n"
   ]
  },
  {
   "cell_type": "code",
   "execution_count": 4,
   "id": "63c607a9-98a3-4fc7-867c-82dbefbbe755",
   "metadata": {},
   "outputs": [],
   "source": [
    "def calculate_who_can_win(driver_standings, max_points):\n",
    "    LEADER_POINTS = int(driver_standings[0]['points'])\n",
    "\n",
    "    for _, driver in enumerate(driver_standings):\n",
    "        driver_max_points = int(driver[\"points\"]) + max_points\n",
    "        can_win = 'No' if driver_max_points < LEADER_POINTS else 'Yes'\n",
    "\n",
    "        print(f\"{driver['position']}: \\\n",
    "{driver['Driver']['code']}, \\\n",
    "Current points: {driver['points']}, \\\n",
    "Theoretical max points: {driver_max_points}, \\\n",
    "Can win: {can_win}\")\n"
   ]
  },
  {
   "cell_type": "code",
   "execution_count": 5,
   "id": "da2f6b7b-f980-4a35-a268-a5698b7f56da",
   "metadata": {},
   "outputs": [
    {
     "name": "stdout",
     "output_type": "stream",
     "text": [
      "1: VER, Current points: 258, Theoretical max points: 500, Can win: Yes\n",
      "2: LEC, Current points: 178, Theoretical max points: 420, Can win: Yes\n",
      "3: PER, Current points: 173, Theoretical max points: 415, Can win: Yes\n",
      "4: RUS, Current points: 158, Theoretical max points: 400, Can win: Yes\n",
      "5: SAI, Current points: 156, Theoretical max points: 398, Can win: Yes\n",
      "6: HAM, Current points: 146, Theoretical max points: 388, Can win: Yes\n",
      "7: NOR, Current points: 76, Theoretical max points: 318, Can win: Yes\n",
      "8: OCO, Current points: 58, Theoretical max points: 300, Can win: Yes\n",
      "9: BOT, Current points: 46, Theoretical max points: 288, Can win: Yes\n",
      "10: ALO, Current points: 41, Theoretical max points: 283, Can win: Yes\n",
      "11: MAG, Current points: 22, Theoretical max points: 264, Can win: Yes\n",
      "12: RIC, Current points: 19, Theoretical max points: 261, Can win: Yes\n",
      "13: GAS, Current points: 16, Theoretical max points: 258, Can win: Yes\n",
      "14: VET, Current points: 16, Theoretical max points: 258, Can win: Yes\n",
      "15: MSC, Current points: 12, Theoretical max points: 254, Can win: No\n",
      "16: TSU, Current points: 11, Theoretical max points: 253, Can win: No\n",
      "17: ZHO, Current points: 5, Theoretical max points: 247, Can win: No\n",
      "18: STR, Current points: 4, Theoretical max points: 246, Can win: No\n",
      "19: ALB, Current points: 3, Theoretical max points: 245, Can win: No\n",
      "20: LAT, Current points: 0, Theoretical max points: 242, Can win: No\n",
      "21: HUL, Current points: 0, Theoretical max points: 242, Can win: No\n"
     ]
    }
   ],
   "source": [
    "# Get the current drivers standings\n",
    "driver_standings = get_drivers_standings()\n",
    "\n",
    "# Get the maximum amount of points\n",
    "points = calculate_max_points_for_remaining_season()\n",
    "\n",
    "# Print which drivers can still win\n",
    "calculate_who_can_win(driver_standings, points)\n"
   ]
  },
  {
   "cell_type": "code",
   "execution_count": null,
   "id": "7584b5ce-0613-43af-9f5d-5d46667b434e",
   "metadata": {},
   "outputs": [],
   "source": []
  }
 ],
 "metadata": {
  "kernelspec": {
   "display_name": "Python 3 (ipykernel)",
   "language": "python",
   "name": "python3"
  },
  "language_info": {
   "codemirror_mode": {
    "name": "ipython",
    "version": 3
   },
   "file_extension": ".py",
   "mimetype": "text/x-python",
   "name": "python",
   "nbconvert_exporter": "python",
   "pygments_lexer": "ipython3",
   "version": "3.8.9"
  }
 },
 "nbformat": 4,
 "nbformat_minor": 5
}
